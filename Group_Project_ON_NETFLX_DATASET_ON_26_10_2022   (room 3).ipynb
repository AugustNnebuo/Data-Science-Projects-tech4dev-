{
 "cells": [
  {
   "cell_type": "markdown",
   "metadata": {},
   "source": [
    "## EDA group project on the Netflix dataset  \n",
    "#### (WTFC'23 Data science GroupA Room 3)"
   ]
  },
  {
   "cell_type": "markdown",
   "metadata": {},
   "source": [
    "\n",
    "\n",
    "#### Table of contents\n",
    "\n",
    "1. Load in the data set (Netflix)\n",
    "2. Check for missing values\n",
    "3. Check for an overview of the data\n",
    "4. Drop the few null rows in Date added, rating and duration columns respectively\n",
    "5. Fill in the null rows in director, cast and country column with (“None Specified”, “Nonelisted” and “Non Specified “) respectively\n",
    "6. Recheck for missing values\n",
    "7. Check the value count for Duration column\n",
    "8. Check the value count for type column\n",
    "9. Using pie chart in matplotlib visualize the type column (Movie and TV Show)\n",
    "10. Subset the data to only include Movies in the type Column\n",
    "11. Get the counts of directors in the dataset\n",
    "12. Visualize the top movies directors\n",
    "13. Check for outliers in the duration column\n",
    "14. What are the top countries by movies counts\n",
    "15. Visualize the top countries by movie count\n",
    "16. Select movies type that are been released in the last 10 year (where years >=2012)\n",
    "17. Using bar plot, show the count of movies and series produced in the last 10 years(where years >= 2012)\n",
    "18. Using a count plot show the total movies and TV show been released in the last 10 years\n",
    "19. Check for unique rating\n",
    "20. Explore the data\n"
   ]
  },
  {
   "cell_type": "markdown",
   "metadata": {
    "id": "72c74627-9e74-4d0b-98d5-096748c9fc90"
   },
   "source": [
    "#### <font color = #F1C40F>_Start by importing all the necessary libraries; NumPy, Pandas, Seaborn and MatPlotLib_<font>"
   ]
  },
  {
   "cell_type": "code",
   "execution_count": 2,
   "metadata": {
    "colab": {
     "base_uri": "https://localhost:8080/",
     "height": 74
    },
    "id": "2d542545",
    "outputId": "04d536d3-c96c-4544-92c4-e015850ba11a"
   },
   "outputs": [],
   "source": [
    "import matplotlib.pyplot as plt\n",
    "import numpy as np\n",
    "import pandas as pd\n",
    "import seaborn as sns\n",
    "%matplotlib inline\n",
    "#from google.colab import files # This is how you upload a file to colab\n",
    "#uploaded = files.upload()"
   ]
  },
  {
   "cell_type": "markdown",
   "metadata": {
    "id": "ec7a25ec-121f-4f6d-bca0-a5369f862d3a"
   },
   "source": [
    "#### <font color = #28B463>_1. Load in the data set (Netflix)_<font>"
   ]
  },
  {
   "cell_type": "code",
   "execution_count": 3,
   "metadata": {
    "id": "ecb638cb"
   },
   "outputs": [],
   "source": [
    "#import io\n",
    "#netflix = pd.read_csv(io.BytesIO(uploaded[\"netflix_titles.csv\"]))\n",
    "\n",
    "netflix=pd.read_csv(\"netflix_titles.csv\")"
   ]
  },
  {
   "cell_type": "code",
   "execution_count": 4,
   "metadata": {
    "colab": {
     "base_uri": "https://localhost:8080/",
     "height": 687
    },
    "id": "be838234",
    "outputId": "a4f0e0c7-6d91-4b77-fc84-3d32c0b8600f"
   },
   "outputs": [
    {
     "data": {
      "text/html": [
       "<div>\n",
       "<style scoped>\n",
       "    .dataframe tbody tr th:only-of-type {\n",
       "        vertical-align: middle;\n",
       "    }\n",
       "\n",
       "    .dataframe tbody tr th {\n",
       "        vertical-align: top;\n",
       "    }\n",
       "\n",
       "    .dataframe thead th {\n",
       "        text-align: right;\n",
       "    }\n",
       "</style>\n",
       "<table border=\"1\" class=\"dataframe\">\n",
       "  <thead>\n",
       "    <tr style=\"text-align: right;\">\n",
       "      <th></th>\n",
       "      <th>show_id</th>\n",
       "      <th>type</th>\n",
       "      <th>title</th>\n",
       "      <th>director</th>\n",
       "      <th>cast</th>\n",
       "      <th>country</th>\n",
       "      <th>date_added</th>\n",
       "      <th>release_year</th>\n",
       "      <th>rating</th>\n",
       "      <th>duration</th>\n",
       "      <th>listed_in</th>\n",
       "      <th>description</th>\n",
       "    </tr>\n",
       "  </thead>\n",
       "  <tbody>\n",
       "    <tr>\n",
       "      <th>0</th>\n",
       "      <td>s1</td>\n",
       "      <td>Movie</td>\n",
       "      <td>Dick Johnson Is Dead</td>\n",
       "      <td>Kirsten Johnson</td>\n",
       "      <td>NaN</td>\n",
       "      <td>United States</td>\n",
       "      <td>September 25, 2021</td>\n",
       "      <td>2020</td>\n",
       "      <td>PG-13</td>\n",
       "      <td>90 min</td>\n",
       "      <td>Documentaries</td>\n",
       "      <td>As her father nears the end of his life, filmm...</td>\n",
       "    </tr>\n",
       "    <tr>\n",
       "      <th>1</th>\n",
       "      <td>s2</td>\n",
       "      <td>TV Show</td>\n",
       "      <td>Blood &amp; Water</td>\n",
       "      <td>NaN</td>\n",
       "      <td>Ama Qamata, Khosi Ngema, Gail Mabalane, Thaban...</td>\n",
       "      <td>South Africa</td>\n",
       "      <td>September 24, 2021</td>\n",
       "      <td>2021</td>\n",
       "      <td>TV-MA</td>\n",
       "      <td>2 Seasons</td>\n",
       "      <td>International TV Shows, TV Dramas, TV Mysteries</td>\n",
       "      <td>After crossing paths at a party, a Cape Town t...</td>\n",
       "    </tr>\n",
       "    <tr>\n",
       "      <th>2</th>\n",
       "      <td>s3</td>\n",
       "      <td>TV Show</td>\n",
       "      <td>Ganglands</td>\n",
       "      <td>Julien Leclercq</td>\n",
       "      <td>Sami Bouajila, Tracy Gotoas, Samuel Jouy, Nabi...</td>\n",
       "      <td>NaN</td>\n",
       "      <td>September 24, 2021</td>\n",
       "      <td>2021</td>\n",
       "      <td>TV-MA</td>\n",
       "      <td>1 Season</td>\n",
       "      <td>Crime TV Shows, International TV Shows, TV Act...</td>\n",
       "      <td>To protect his family from a powerful drug lor...</td>\n",
       "    </tr>\n",
       "    <tr>\n",
       "      <th>3</th>\n",
       "      <td>s4</td>\n",
       "      <td>TV Show</td>\n",
       "      <td>Jailbirds New Orleans</td>\n",
       "      <td>NaN</td>\n",
       "      <td>NaN</td>\n",
       "      <td>NaN</td>\n",
       "      <td>September 24, 2021</td>\n",
       "      <td>2021</td>\n",
       "      <td>TV-MA</td>\n",
       "      <td>1 Season</td>\n",
       "      <td>Docuseries, Reality TV</td>\n",
       "      <td>Feuds, flirtations and toilet talk go down amo...</td>\n",
       "    </tr>\n",
       "    <tr>\n",
       "      <th>4</th>\n",
       "      <td>s5</td>\n",
       "      <td>TV Show</td>\n",
       "      <td>Kota Factory</td>\n",
       "      <td>NaN</td>\n",
       "      <td>Mayur More, Jitendra Kumar, Ranjan Raj, Alam K...</td>\n",
       "      <td>India</td>\n",
       "      <td>September 24, 2021</td>\n",
       "      <td>2021</td>\n",
       "      <td>TV-MA</td>\n",
       "      <td>2 Seasons</td>\n",
       "      <td>International TV Shows, Romantic TV Shows, TV ...</td>\n",
       "      <td>In a city of coaching centers known to train I...</td>\n",
       "    </tr>\n",
       "  </tbody>\n",
       "</table>\n",
       "</div>"
      ],
      "text/plain": [
       "  show_id     type                  title         director  \\\n",
       "0      s1    Movie   Dick Johnson Is Dead  Kirsten Johnson   \n",
       "1      s2  TV Show          Blood & Water              NaN   \n",
       "2      s3  TV Show              Ganglands  Julien Leclercq   \n",
       "3      s4  TV Show  Jailbirds New Orleans              NaN   \n",
       "4      s5  TV Show           Kota Factory              NaN   \n",
       "\n",
       "                                                cast        country  \\\n",
       "0                                                NaN  United States   \n",
       "1  Ama Qamata, Khosi Ngema, Gail Mabalane, Thaban...   South Africa   \n",
       "2  Sami Bouajila, Tracy Gotoas, Samuel Jouy, Nabi...            NaN   \n",
       "3                                                NaN            NaN   \n",
       "4  Mayur More, Jitendra Kumar, Ranjan Raj, Alam K...          India   \n",
       "\n",
       "           date_added  release_year rating   duration  \\\n",
       "0  September 25, 2021          2020  PG-13     90 min   \n",
       "1  September 24, 2021          2021  TV-MA  2 Seasons   \n",
       "2  September 24, 2021          2021  TV-MA   1 Season   \n",
       "3  September 24, 2021          2021  TV-MA   1 Season   \n",
       "4  September 24, 2021          2021  TV-MA  2 Seasons   \n",
       "\n",
       "                                           listed_in  \\\n",
       "0                                      Documentaries   \n",
       "1    International TV Shows, TV Dramas, TV Mysteries   \n",
       "2  Crime TV Shows, International TV Shows, TV Act...   \n",
       "3                             Docuseries, Reality TV   \n",
       "4  International TV Shows, Romantic TV Shows, TV ...   \n",
       "\n",
       "                                         description  \n",
       "0  As her father nears the end of his life, filmm...  \n",
       "1  After crossing paths at a party, a Cape Town t...  \n",
       "2  To protect his family from a powerful drug lor...  \n",
       "3  Feuds, flirtations and toilet talk go down amo...  \n",
       "4  In a city of coaching centers known to train I...  "
      ]
     },
     "execution_count": 4,
     "metadata": {},
     "output_type": "execute_result"
    }
   ],
   "source": [
    "netflix.head()"
   ]
  },
  {
   "cell_type": "markdown",
   "metadata": {
    "id": "b2a5ae45-6492-4a57-8258-ec1b39e9e61e"
   },
   "source": [
    "#### <font color = #28B463>_2. Check for missing values_<font>"
   ]
  },
  {
   "cell_type": "code",
   "execution_count": 5,
   "metadata": {
    "colab": {
     "base_uri": "https://localhost:8080/"
    },
    "id": "dd3cc0f6",
    "outputId": "9da50eed-e552-4ebc-946b-a5a272a12d77"
   },
   "outputs": [
    {
     "data": {
      "text/plain": [
       "show_id            0\n",
       "type               0\n",
       "title              0\n",
       "director        2634\n",
       "cast             825\n",
       "country          831\n",
       "date_added        10\n",
       "release_year       0\n",
       "rating             4\n",
       "duration           3\n",
       "listed_in          0\n",
       "description        0\n",
       "dtype: int64"
      ]
     },
     "execution_count": 5,
     "metadata": {},
     "output_type": "execute_result"
    }
   ],
   "source": [
    "netflix.isna().sum()"
   ]
  },
  {
   "cell_type": "markdown",
   "metadata": {
    "id": "67655fbb-f9fc-44cd-ae2b-491f0190dad0"
   },
   "source": [
    "#### <font color = #28B463>_3. Check for an overview of the data_<font>"
   ]
  },
  {
   "cell_type": "code",
   "execution_count": 6,
   "metadata": {
    "colab": {
     "base_uri": "https://localhost:8080/"
    },
    "id": "5cbab60b",
    "outputId": "cb2f209e-a5f7-4865-c6ef-237eb84ca412"
   },
   "outputs": [
    {
     "data": {
      "text/plain": [
       "(8807, 12)"
      ]
     },
     "execution_count": 6,
     "metadata": {},
     "output_type": "execute_result"
    }
   ],
   "source": [
    "netflix.shape      #displays number of rows and columns"
   ]
  },
  {
   "cell_type": "code",
   "execution_count": 7,
   "metadata": {
    "colab": {
     "base_uri": "https://localhost:8080/"
    },
    "id": "ff4c0bcc",
    "outputId": "70672ee3-d53c-4553-90c5-782d0a37351d"
   },
   "outputs": [
    {
     "data": {
      "text/plain": [
       "Index(['show_id', 'type', 'title', 'director', 'cast', 'country', 'date_added',\n",
       "       'release_year', 'rating', 'duration', 'listed_in', 'description'],\n",
       "      dtype='object')"
      ]
     },
     "execution_count": 7,
     "metadata": {},
     "output_type": "execute_result"
    }
   ],
   "source": [
    "netflix.columns #displays the column titles"
   ]
  },
  {
   "cell_type": "code",
   "execution_count": 8,
   "metadata": {
    "colab": {
     "base_uri": "https://localhost:8080/",
     "height": 300
    },
    "id": "771e2f2c",
    "outputId": "eed17d93-ef82-47d4-c46f-1dd1a231515a"
   },
   "outputs": [
    {
     "data": {
      "text/html": [
       "<div>\n",
       "<style scoped>\n",
       "    .dataframe tbody tr th:only-of-type {\n",
       "        vertical-align: middle;\n",
       "    }\n",
       "\n",
       "    .dataframe tbody tr th {\n",
       "        vertical-align: top;\n",
       "    }\n",
       "\n",
       "    .dataframe thead th {\n",
       "        text-align: right;\n",
       "    }\n",
       "</style>\n",
       "<table border=\"1\" class=\"dataframe\">\n",
       "  <thead>\n",
       "    <tr style=\"text-align: right;\">\n",
       "      <th></th>\n",
       "      <th>release_year</th>\n",
       "    </tr>\n",
       "  </thead>\n",
       "  <tbody>\n",
       "    <tr>\n",
       "      <th>count</th>\n",
       "      <td>8807.000000</td>\n",
       "    </tr>\n",
       "    <tr>\n",
       "      <th>mean</th>\n",
       "      <td>2014.180198</td>\n",
       "    </tr>\n",
       "    <tr>\n",
       "      <th>std</th>\n",
       "      <td>8.819312</td>\n",
       "    </tr>\n",
       "    <tr>\n",
       "      <th>min</th>\n",
       "      <td>1925.000000</td>\n",
       "    </tr>\n",
       "    <tr>\n",
       "      <th>25%</th>\n",
       "      <td>2013.000000</td>\n",
       "    </tr>\n",
       "    <tr>\n",
       "      <th>50%</th>\n",
       "      <td>2017.000000</td>\n",
       "    </tr>\n",
       "    <tr>\n",
       "      <th>75%</th>\n",
       "      <td>2019.000000</td>\n",
       "    </tr>\n",
       "    <tr>\n",
       "      <th>max</th>\n",
       "      <td>2021.000000</td>\n",
       "    </tr>\n",
       "  </tbody>\n",
       "</table>\n",
       "</div>"
      ],
      "text/plain": [
       "       release_year\n",
       "count   8807.000000\n",
       "mean    2014.180198\n",
       "std        8.819312\n",
       "min     1925.000000\n",
       "25%     2013.000000\n",
       "50%     2017.000000\n",
       "75%     2019.000000\n",
       "max     2021.000000"
      ]
     },
     "execution_count": 8,
     "metadata": {},
     "output_type": "execute_result"
    }
   ],
   "source": [
    "netflix.describe()"
   ]
  },
  {
   "cell_type": "code",
   "execution_count": 9,
   "metadata": {
    "colab": {
     "base_uri": "https://localhost:8080/"
    },
    "id": "50f958a9",
    "outputId": "918f2f11-cc24-44f6-ffcc-c3d90fb73525"
   },
   "outputs": [
    {
     "name": "stdout",
     "output_type": "stream",
     "text": [
      "<class 'pandas.core.frame.DataFrame'>\n",
      "RangeIndex: 8807 entries, 0 to 8806\n",
      "Data columns (total 12 columns):\n",
      "show_id         8807 non-null object\n",
      "type            8807 non-null object\n",
      "title           8807 non-null object\n",
      "director        6173 non-null object\n",
      "cast            7982 non-null object\n",
      "country         7976 non-null object\n",
      "date_added      8797 non-null object\n",
      "release_year    8807 non-null int64\n",
      "rating          8803 non-null object\n",
      "duration        8804 non-null object\n",
      "listed_in       8807 non-null object\n",
      "description     8807 non-null object\n",
      "dtypes: int64(1), object(11)\n",
      "memory usage: 825.7+ KB\n"
     ]
    }
   ],
   "source": [
    "netflix.info()"
   ]
  },
  {
   "cell_type": "markdown",
   "metadata": {
    "id": "52660aff-7ae6-426d-b78c-3fd3b22a4775"
   },
   "source": [
    "#### <font color = #28B463>_4. Drop the few null rows in Date added, rating and duration columns respectively_<font>"
   ]
  },
  {
   "cell_type": "code",
   "execution_count": 10,
   "metadata": {
    "id": "7be483b2"
   },
   "outputs": [],
   "source": [
    "netflix.dropna(subset = [\"date_added\", \"rating\", \"duration\"], inplace = True)"
   ]
  },
  {
   "cell_type": "code",
   "execution_count": 11,
   "metadata": {
    "colab": {
     "base_uri": "https://localhost:8080/",
     "height": 687
    },
    "id": "110eb9b5",
    "outputId": "35cafda0-e314-4204-92b8-751020774807"
   },
   "outputs": [
    {
     "data": {
      "text/html": [
       "<div>\n",
       "<style scoped>\n",
       "    .dataframe tbody tr th:only-of-type {\n",
       "        vertical-align: middle;\n",
       "    }\n",
       "\n",
       "    .dataframe tbody tr th {\n",
       "        vertical-align: top;\n",
       "    }\n",
       "\n",
       "    .dataframe thead th {\n",
       "        text-align: right;\n",
       "    }\n",
       "</style>\n",
       "<table border=\"1\" class=\"dataframe\">\n",
       "  <thead>\n",
       "    <tr style=\"text-align: right;\">\n",
       "      <th></th>\n",
       "      <th>show_id</th>\n",
       "      <th>type</th>\n",
       "      <th>title</th>\n",
       "      <th>director</th>\n",
       "      <th>cast</th>\n",
       "      <th>country</th>\n",
       "      <th>date_added</th>\n",
       "      <th>release_year</th>\n",
       "      <th>rating</th>\n",
       "      <th>duration</th>\n",
       "      <th>listed_in</th>\n",
       "      <th>description</th>\n",
       "    </tr>\n",
       "  </thead>\n",
       "  <tbody>\n",
       "    <tr>\n",
       "      <th>0</th>\n",
       "      <td>s1</td>\n",
       "      <td>Movie</td>\n",
       "      <td>Dick Johnson Is Dead</td>\n",
       "      <td>Kirsten Johnson</td>\n",
       "      <td>NaN</td>\n",
       "      <td>United States</td>\n",
       "      <td>September 25, 2021</td>\n",
       "      <td>2020</td>\n",
       "      <td>PG-13</td>\n",
       "      <td>90 min</td>\n",
       "      <td>Documentaries</td>\n",
       "      <td>As her father nears the end of his life, filmm...</td>\n",
       "    </tr>\n",
       "    <tr>\n",
       "      <th>1</th>\n",
       "      <td>s2</td>\n",
       "      <td>TV Show</td>\n",
       "      <td>Blood &amp; Water</td>\n",
       "      <td>NaN</td>\n",
       "      <td>Ama Qamata, Khosi Ngema, Gail Mabalane, Thaban...</td>\n",
       "      <td>South Africa</td>\n",
       "      <td>September 24, 2021</td>\n",
       "      <td>2021</td>\n",
       "      <td>TV-MA</td>\n",
       "      <td>2 Seasons</td>\n",
       "      <td>International TV Shows, TV Dramas, TV Mysteries</td>\n",
       "      <td>After crossing paths at a party, a Cape Town t...</td>\n",
       "    </tr>\n",
       "    <tr>\n",
       "      <th>2</th>\n",
       "      <td>s3</td>\n",
       "      <td>TV Show</td>\n",
       "      <td>Ganglands</td>\n",
       "      <td>Julien Leclercq</td>\n",
       "      <td>Sami Bouajila, Tracy Gotoas, Samuel Jouy, Nabi...</td>\n",
       "      <td>NaN</td>\n",
       "      <td>September 24, 2021</td>\n",
       "      <td>2021</td>\n",
       "      <td>TV-MA</td>\n",
       "      <td>1 Season</td>\n",
       "      <td>Crime TV Shows, International TV Shows, TV Act...</td>\n",
       "      <td>To protect his family from a powerful drug lor...</td>\n",
       "    </tr>\n",
       "    <tr>\n",
       "      <th>3</th>\n",
       "      <td>s4</td>\n",
       "      <td>TV Show</td>\n",
       "      <td>Jailbirds New Orleans</td>\n",
       "      <td>NaN</td>\n",
       "      <td>NaN</td>\n",
       "      <td>NaN</td>\n",
       "      <td>September 24, 2021</td>\n",
       "      <td>2021</td>\n",
       "      <td>TV-MA</td>\n",
       "      <td>1 Season</td>\n",
       "      <td>Docuseries, Reality TV</td>\n",
       "      <td>Feuds, flirtations and toilet talk go down amo...</td>\n",
       "    </tr>\n",
       "    <tr>\n",
       "      <th>4</th>\n",
       "      <td>s5</td>\n",
       "      <td>TV Show</td>\n",
       "      <td>Kota Factory</td>\n",
       "      <td>NaN</td>\n",
       "      <td>Mayur More, Jitendra Kumar, Ranjan Raj, Alam K...</td>\n",
       "      <td>India</td>\n",
       "      <td>September 24, 2021</td>\n",
       "      <td>2021</td>\n",
       "      <td>TV-MA</td>\n",
       "      <td>2 Seasons</td>\n",
       "      <td>International TV Shows, Romantic TV Shows, TV ...</td>\n",
       "      <td>In a city of coaching centers known to train I...</td>\n",
       "    </tr>\n",
       "  </tbody>\n",
       "</table>\n",
       "</div>"
      ],
      "text/plain": [
       "  show_id     type                  title         director  \\\n",
       "0      s1    Movie   Dick Johnson Is Dead  Kirsten Johnson   \n",
       "1      s2  TV Show          Blood & Water              NaN   \n",
       "2      s3  TV Show              Ganglands  Julien Leclercq   \n",
       "3      s4  TV Show  Jailbirds New Orleans              NaN   \n",
       "4      s5  TV Show           Kota Factory              NaN   \n",
       "\n",
       "                                                cast        country  \\\n",
       "0                                                NaN  United States   \n",
       "1  Ama Qamata, Khosi Ngema, Gail Mabalane, Thaban...   South Africa   \n",
       "2  Sami Bouajila, Tracy Gotoas, Samuel Jouy, Nabi...            NaN   \n",
       "3                                                NaN            NaN   \n",
       "4  Mayur More, Jitendra Kumar, Ranjan Raj, Alam K...          India   \n",
       "\n",
       "           date_added  release_year rating   duration  \\\n",
       "0  September 25, 2021          2020  PG-13     90 min   \n",
       "1  September 24, 2021          2021  TV-MA  2 Seasons   \n",
       "2  September 24, 2021          2021  TV-MA   1 Season   \n",
       "3  September 24, 2021          2021  TV-MA   1 Season   \n",
       "4  September 24, 2021          2021  TV-MA  2 Seasons   \n",
       "\n",
       "                                           listed_in  \\\n",
       "0                                      Documentaries   \n",
       "1    International TV Shows, TV Dramas, TV Mysteries   \n",
       "2  Crime TV Shows, International TV Shows, TV Act...   \n",
       "3                             Docuseries, Reality TV   \n",
       "4  International TV Shows, Romantic TV Shows, TV ...   \n",
       "\n",
       "                                         description  \n",
       "0  As her father nears the end of his life, filmm...  \n",
       "1  After crossing paths at a party, a Cape Town t...  \n",
       "2  To protect his family from a powerful drug lor...  \n",
       "3  Feuds, flirtations and toilet talk go down amo...  \n",
       "4  In a city of coaching centers known to train I...  "
      ]
     },
     "execution_count": 11,
     "metadata": {},
     "output_type": "execute_result"
    }
   ],
   "source": [
    "netflix.head()"
   ]
  },
  {
   "cell_type": "code",
   "execution_count": 12,
   "metadata": {
    "colab": {
     "base_uri": "https://localhost:8080/"
    },
    "id": "8e70f1ff",
    "outputId": "ebf86c76-fe31-4ffb-835e-3abbde2973fa"
   },
   "outputs": [
    {
     "data": {
      "text/plain": [
       "show_id            0\n",
       "type               0\n",
       "title              0\n",
       "director        2621\n",
       "cast             825\n",
       "country          829\n",
       "date_added         0\n",
       "release_year       0\n",
       "rating             0\n",
       "duration           0\n",
       "listed_in          0\n",
       "description        0\n",
       "dtype: int64"
      ]
     },
     "execution_count": 12,
     "metadata": {},
     "output_type": "execute_result"
    }
   ],
   "source": [
    "netflix.isna().sum()"
   ]
  },
  {
   "cell_type": "markdown",
   "metadata": {
    "id": "61485dfc-68f5-4a86-b291-1c5a4945747a"
   },
   "source": [
    "#### <font color = #28B463>_5. Fill in the null rows in director, cast and country column with (“None Specified”, “Nonelisted” and “Non Specified “) respectively_<font>"
   ]
  },
  {
   "cell_type": "code",
   "execution_count": 13,
   "metadata": {
    "id": "3ce8fdd6"
   },
   "outputs": [],
   "source": [
    "netflix.fillna({\"director\" : \"None Specified\", \"cast\" : \"Nonelisted\", \"country\" : \"Non Specified\"},inplace = True)"
   ]
  },
  {
   "cell_type": "markdown",
   "metadata": {
    "id": "827212f1-00b9-418e-a629-3173c6b6edde"
   },
   "source": [
    "#### <font color = #28B46F>_6. Recheck for missing values_<font>"
   ]
  },
  {
   "cell_type": "code",
   "execution_count": 20,
   "metadata": {
    "colab": {
     "base_uri": "https://localhost:8080/"
    },
    "id": "8a6738e9-0ef7-4757-a3e2-e4bbd120bf98",
    "outputId": "74aafcaf-3a07-4a31-89d1-2f7edf16e0f4"
   },
   "outputs": [
    {
     "data": {
      "text/plain": [
       "show_id         0\n",
       "type            0\n",
       "title           0\n",
       "director        0\n",
       "cast            0\n",
       "country         0\n",
       "date_added      0\n",
       "release_year    0\n",
       "rating          0\n",
       "duration        0\n",
       "listed_in       0\n",
       "description     0\n",
       "dtype: int64"
      ]
     },
     "execution_count": 20,
     "metadata": {},
     "output_type": "execute_result"
    }
   ],
   "source": [
    "netflix.isna().sum()"
   ]
  },
  {
   "cell_type": "markdown",
   "metadata": {
    "id": "1584f279-3a61-4e86-8a59-a66c2af3552f"
   },
   "source": [
    "#### <font color = #28B463>_7. Check the value count for Duration column_<font>"
   ]
  },
  {
   "cell_type": "code",
   "execution_count": 26,
   "metadata": {
    "colab": {
     "base_uri": "https://localhost:8080/"
    },
    "id": "c8286f19-d68d-4359-9007-c35fd8103095",
    "outputId": "d47a67d4-929c-4955-d644-3240947d614d"
   },
   "outputs": [
    {
     "data": {
      "text/plain": [
       "8790"
      ]
     },
     "execution_count": 26,
     "metadata": {},
     "output_type": "execute_result"
    }
   ],
   "source": [
    "#netflix.value_counts(subset = ['duration']).sum()\n",
    "\n",
    "netflix[\"duration\"].value_counts().sum()"
   ]
  },
  {
   "cell_type": "markdown",
   "metadata": {
    "id": "c5440773-d5a5-4223-80f1-3a2c8850dfad"
   },
   "source": [
    "#### <font color = #28B463>_8. Check the value count for type column_<font>"
   ]
  },
  {
   "cell_type": "code",
   "execution_count": 28,
   "metadata": {
    "colab": {
     "base_uri": "https://localhost:8080/"
    },
    "id": "5ef636d8-fc80-4490-a6ac-9561273d262d",
    "outputId": "799f47d6-c67b-4110-b237-d44f272fc61b"
   },
   "outputs": [
    {
     "data": {
      "text/plain": [
       "8790"
      ]
     },
     "execution_count": 28,
     "metadata": {},
     "output_type": "execute_result"
    }
   ],
   "source": [
    "# netflix.value_counts(subset = ['type']).sum()\n",
    "\n",
    "netflix[\"type\"].value_counts().sum()"
   ]
  },
  {
   "cell_type": "markdown",
   "metadata": {
    "id": "ce6ae04a-46f6-4f18-ae43-5fd642cf0b38"
   },
   "source": [
    "#### <font color = #28B463>_9. Using pie chart in matplotlib visualize the type column (Movie and TV Show)_<font>"
   ]
  },
  {
   "cell_type": "code",
   "execution_count": 29,
   "metadata": {
    "id": "73e698a2-e271-4068-90dd-124dd4071ea4"
   },
   "outputs": [],
   "source": [
    "netflix['type'] \n",
    "type1 = netflix['type'].value_counts().index\n",
    "type2 = netflix['type'].value_counts().values"
   ]
  },
  {
   "cell_type": "code",
   "execution_count": 31,
   "metadata": {
    "colab": {
     "base_uri": "https://localhost:8080/",
     "height": 248
    },
    "id": "f7fe0f7d-c32e-4a69-9f73-31015d0bbdfa",
    "outputId": "dce2c789-4aac-42b5-b497-b4a6b4b9cb38"
   },
   "outputs": [],
   "source": [
    "# plt.pie(x = netflix['type'].value_counts(), labels = ['Movie', 'TV Show'])\n",
    "# plt.show()"
   ]
  },
  {
   "cell_type": "code",
   "execution_count": 32,
   "metadata": {
    "colab": {
     "base_uri": "https://localhost:8080/",
     "height": 248
    },
    "id": "201ea606-7a50-4bcf-92e0-95c92b39d0e2",
    "outputId": "5dc32daa-2603-40e3-b4a9-feb520e578fa"
   },
   "outputs": [
    {
     "data": {
      "image/png": "[encoded data removed]",
      "text/plain": [
       "<Figure size 432x288 with 1 Axes>"
      ]
     },
     "metadata": {},
     "output_type": "display_data"
    }
   ],
   "source": [
    "plt.pie(labels = type1, x = type2, autopct='%1.1f%%')\n",
    "plt.show()"
   ]
  },
  {
   "cell_type": "markdown",
   "metadata": {
    "id": "f8ce2466-22fc-475d-9a4c-45b21cde88f2"
   },
   "source": [
    "#### <font color = #28B463>_10. Subset the data to only include Movies in the type Column_<font>"
   ]
  },
  {
   "cell_type": "code",
   "execution_count": 33,
   "metadata": {
    "colab": {
     "base_uri": "https://localhost:8080/",
     "height": 450
    },
    "id": "a9da89f4-6104-48f2-839f-227f54a5e95b",
    "outputId": "99893d93-9480-421f-88ae-be84947d657a"
   },
   "outputs": [
    {
     "data": {
      "text/html": [
       "<div>\n",
       "<style scoped>\n",
       "    .dataframe tbody tr th:only-of-type {\n",
       "        vertical-align: middle;\n",
       "    }\n",
       "\n",
       "    .dataframe tbody tr th {\n",
       "        vertical-align: top;\n",
       "    }\n",
       "\n",
       "    .dataframe thead th {\n",
       "        text-align: right;\n",
       "    }\n",
       "</style>\n",
       "<table border=\"1\" class=\"dataframe\">\n",
       "  <thead>\n",
       "    <tr style=\"text-align: right;\">\n",
       "      <th></th>\n",
       "      <th>show_id</th>\n",
       "      <th>type</th>\n",
       "      <th>title</th>\n",
       "      <th>director</th>\n",
       "      <th>cast</th>\n",
       "      <th>country</th>\n",
       "      <th>date_added</th>\n",
       "      <th>release_year</th>\n",
       "      <th>rating</th>\n",
       "      <th>duration</th>\n",
       "      <th>listed_in</th>\n",
       "      <th>description</th>\n",
       "    </tr>\n",
       "  </thead>\n",
       "  <tbody>\n",
       "    <tr>\n",
       "      <th>0</th>\n",
       "      <td>s1</td>\n",
       "      <td>Movie</td>\n",
       "      <td>Dick Johnson Is Dead</td>\n",
       "      <td>Kirsten Johnson</td>\n",
       "      <td>Nonelisted</td>\n",
       "      <td>United States</td>\n",
       "      <td>September 25, 2021</td>\n",
       "      <td>2020</td>\n",
       "      <td>PG-13</td>\n",
       "      <td>90 min</td>\n",
       "      <td>Documentaries</td>\n",
       "      <td>As her father nears the end of his life, filmm...</td>\n",
       "    </tr>\n",
       "    <tr>\n",
       "      <th>6</th>\n",
       "      <td>s7</td>\n",
       "      <td>Movie</td>\n",
       "      <td>My Little Pony: A New Generation</td>\n",
       "      <td>Robert Cullen, José Luis Ucha</td>\n",
       "      <td>Vanessa Hudgens, Kimiko Glenn, James Marsden, ...</td>\n",
       "      <td>Non Specified</td>\n",
       "      <td>September 24, 2021</td>\n",
       "      <td>2021</td>\n",
       "      <td>PG</td>\n",
       "      <td>91 min</td>\n",
       "      <td>Children &amp; Family Movies</td>\n",
       "      <td>Equestria's divided. But a bright-eyed hero be...</td>\n",
       "    </tr>\n",
       "    <tr>\n",
       "      <th>7</th>\n",
       "      <td>s8</td>\n",
       "      <td>Movie</td>\n",
       "      <td>Sankofa</td>\n",
       "      <td>Haile Gerima</td>\n",
       "      <td>Kofi Ghanaba, Oyafunmike Ogunlano, Alexandra D...</td>\n",
       "      <td>United States, Ghana, Burkina Faso, United Kin...</td>\n",
       "      <td>September 24, 2021</td>\n",
       "      <td>1993</td>\n",
       "      <td>TV-MA</td>\n",
       "      <td>125 min</td>\n",
       "      <td>Dramas, Independent Movies, International Movies</td>\n",
       "      <td>On a photo shoot in Ghana, an American model s...</td>\n",
       "    </tr>\n",
       "  </tbody>\n",
       "</table>\n",
       "</div>"
      ],
      "text/plain": [
       "  show_id   type                             title  \\\n",
       "0      s1  Movie              Dick Johnson Is Dead   \n",
       "6      s7  Movie  My Little Pony: A New Generation   \n",
       "7      s8  Movie                           Sankofa   \n",
       "\n",
       "                        director  \\\n",
       "0                Kirsten Johnson   \n",
       "6  Robert Cullen, José Luis Ucha   \n",
       "7                   Haile Gerima   \n",
       "\n",
       "                                                cast  \\\n",
       "0                                         Nonelisted   \n",
       "6  Vanessa Hudgens, Kimiko Glenn, James Marsden, ...   \n",
       "7  Kofi Ghanaba, Oyafunmike Ogunlano, Alexandra D...   \n",
       "\n",
       "                                             country          date_added  \\\n",
       "0                                      United States  September 25, 2021   \n",
       "6                                      Non Specified  September 24, 2021   \n",
       "7  United States, Ghana, Burkina Faso, United Kin...  September 24, 2021   \n",
       "\n",
       "   release_year rating duration  \\\n",
       "0          2020  PG-13   90 min   \n",
       "6          2021     PG   91 min   \n",
       "7          1993  TV-MA  125 min   \n",
       "\n",
       "                                          listed_in  \\\n",
       "0                                     Documentaries   \n",
       "6                          Children & Family Movies   \n",
       "7  Dramas, Independent Movies, International Movies   \n",
       "\n",
       "                                         description  \n",
       "0  As her father nears the end of his life, filmm...  \n",
       "6  Equestria's divided. But a bright-eyed hero be...  \n",
       "7  On a photo shoot in Ghana, an American model s...  "
      ]
     },
     "execution_count": 33,
     "metadata": {},
     "output_type": "execute_result"
    }
   ],
   "source": [
    "netflix[netflix['type'] == 'Movie'].head(3)"
   ]
  },
  {
   "cell_type": "markdown",
   "metadata": {
    "id": "db139220-f071-46e8-98bc-dad5fd8bad9e"
   },
   "source": [
    "#### <font color = #28B463>_11. Get the counts of directors in the dataset_<font>"
   ]
  },
  {
   "cell_type": "code",
   "execution_count": 34,
   "metadata": {
    "colab": {
     "base_uri": "https://localhost:8080/"
    },
    "id": "91885ef4-0517-4e0c-b662-bb07537157ab",
    "outputId": "c9abadfb-7b47-4e7d-bec9-1510a1905687"
   },
   "outputs": [
    {
     "data": {
      "text/plain": [
       "4527"
      ]
     },
     "execution_count": 34,
     "metadata": {},
     "output_type": "execute_result"
    }
   ],
   "source": [
    "netflix['director'].nunique() # displays the unique count of directors "
   ]
  },
  {
   "cell_type": "markdown",
   "metadata": {
    "id": "3b63cc91-b70d-410a-b8f2-258bf40c62c1"
   },
   "source": [
    "#### <font color = #28B463>_12. Visualize the top movies directors_<font>"
   ]
  },
  {
   "cell_type": "code",
   "execution_count": 35,
   "metadata": {
    "colab": {
     "base_uri": "https://localhost:8080/"
    },
    "id": "nnMZ1LDVVUAa",
    "outputId": "01a43081-a9c4-4d23-8839-9e99104dcaf7"
   },
   "outputs": [
    {
     "data": {
      "text/plain": [
       "0    None Specified\n",
       "dtype: object"
      ]
     },
     "execution_count": 35,
     "metadata": {},
     "output_type": "execute_result"
    }
   ],
   "source": [
    "netflix['director'].mode() # This gives the director with most movies"
   ]
  },
  {
   "cell_type": "code",
   "execution_count": 36,
   "metadata": {
    "colab": {
     "base_uri": "https://localhost:8080/"
    },
    "id": "IjqgjHQOWt2Q",
    "outputId": "94f5a236-d8f1-4669-b65b-65518cb55a3f"
   },
   "outputs": [
    {
     "data": {
      "text/plain": [
       "None Specified                                2621\n",
       "Rajiv Chilaka                                   19\n",
       "Raúl Campos, Jan Suter                          18\n",
       "Suhas Kadav                                     16\n",
       "Marcus Raboy                                    16\n",
       "Jay Karas                                       14\n",
       "Cathy Garcia-Molina                             13\n",
       "Youssef Chahine                                 12\n",
       "Martin Scorsese                                 12\n",
       "Jay Chapman                                     12\n",
       "Steven Spielberg                                11\n",
       "Don Michael Paul                                10\n",
       "David Dhawan                                     9\n",
       "Yılmaz Erdoğan                                   8\n",
       "Robert Rodriguez                                 8\n",
       "Ryan Polito                                      8\n",
       "Kunle Afolayan                                   8\n",
       "Lance Bangs                                      8\n",
       "Hakan Algül                                      8\n",
       "Quentin Tarantino                                8\n",
       "Shannon Hartman                                  8\n",
       "Fernando Ayllón                                  8\n",
       "Troy Miller                                      8\n",
       "Johnnie To                                       8\n",
       "Justin G. Dyck                                   7\n",
       "Omoni Oboli                                      7\n",
       "Ozan Açıktan                                     7\n",
       "Prakash Satam                                    7\n",
       "S.S. Rajamouli                                   7\n",
       "Clint Eastwood                                   7\n",
       "                                              ... \n",
       "Matheus Souza                                    1\n",
       "Kunal Kohli                                      1\n",
       "Quek Shio-chuan                                  1\n",
       "Felix Van Groeningen, Felix van Groeningen       1\n",
       "Pippa Ehrlich, James Reed                        1\n",
       "Agnidev Chatterjee                               1\n",
       "Ben Young                                        1\n",
       "Martín Sastre                                    1\n",
       "Digo Ricio                                       1\n",
       "Mitzi Vanessa Arreola, Amir Galvan Cervera       1\n",
       "Joshua Zeman                                     1\n",
       "Carlos Moreno                                    1\n",
       "Destin Daniel Cretton                            1\n",
       "Don Argott, Sheena M. Joyce                      1\n",
       "Barry Gonzalez                                   1\n",
       "David Cronenberg                                 1\n",
       "Tony Bancroft, Scott Christian Sava              1\n",
       "Ellen Weissbrod                                  1\n",
       "Hatem Khraiche                                   1\n",
       "Gary Wheeler                                     1\n",
       "Don Mancini                                      1\n",
       "Hugues Nancy, Fabien Beziat                      1\n",
       "Dolapo Adeleke                                   1\n",
       "John Suits                                       1\n",
       "Marty Callner                                    1\n",
       "Noel Dockstader, Quinn Kanaly                    1\n",
       "A. Raajdheep                                     1\n",
       "Juliana Vicente                                  1\n",
       "Liu Jiang                                        1\n",
       "Philip Yung                                      1\n",
       "Name: director, Length: 4527, dtype: int64"
      ]
     },
     "execution_count": 36,
     "metadata": {},
     "output_type": "execute_result"
    }
   ],
   "source": [
    "netflix['director'].value_counts()"
   ]
  },
  {
   "cell_type": "code",
   "execution_count": 39,
   "metadata": {
    "colab": {
     "base_uri": "https://localhost:8080/"
    },
    "id": "1WYiYSGhzZLC",
    "outputId": "10a32380-d10a-458e-8b5e-14644d34583d"
   },
   "outputs": [
    {
     "data": {
      "text/plain": [
       "Rajiv Chilaka             19\n",
       "Raúl Campos, Jan Suter    18\n",
       "Suhas Kadav               16\n",
       "Marcus Raboy              15\n",
       "Jay Karas                 14\n",
       "Name: director, dtype: int64"
      ]
     },
     "execution_count": 39,
     "metadata": {},
     "output_type": "execute_result"
    }
   ],
   "source": [
    "movies = netflix[netflix['type'] == 'Movie']\n",
    "\n",
    "top_dir = movies[movies[\"director\"] != \"None Specified\"][\"director\"].value_counts().head() #just selecting rows that have actual names\n",
    "top_dir"
   ]
  },
  {
   "cell_type": "code",
   "execution_count": 47,
   "metadata": {
    "colab": {
     "base_uri": "https://localhost:8080/",
     "height": 77
    },
    "id": "6a7gUs9lzfbj",
    "outputId": "668697f2-8ad1-4c8d-b968-eaa60f5d4492"
   },
   "outputs": [
    {
     "data": {
      "text/plain": [
       "[(0.12156862745098039, 0.4666666666666667, 0.7058823529411765),\n",
       " (1.0, 0.4980392156862745, 0.054901960784313725),\n",
       " (0.17254901960784313, 0.6274509803921569, 0.17254901960784313),\n",
       " (0.8392156862745098, 0.15294117647058825, 0.1568627450980392),\n",
       " (0.5803921568627451, 0.403921568627451, 0.7411764705882353),\n",
       " (0.5490196078431373, 0.33725490196078434, 0.29411764705882354),\n",
       " (0.8901960784313725, 0.4666666666666667, 0.7607843137254902),\n",
       " (0.4980392156862745, 0.4980392156862745, 0.4980392156862745),\n",
       " (0.7372549019607844, 0.7411764705882353, 0.13333333333333333),\n",
       " (0.09019607843137255, 0.7450980392156863, 0.8117647058823529)]"
      ]
     },
     "execution_count": 47,
     "metadata": {},
     "output_type": "execute_result"
    }
   ],
   "source": [
    "#I want to use this to define a base color, the colors can be accessed through indexing\n",
    "sns.color_palette()"
   ]
  },
  {
   "cell_type": "code",
   "execution_count": 50,
   "metadata": {
    "colab": {
     "base_uri": "https://localhost:8080/",
     "height": 361
    },
    "id": "X5lAGP_sz3cf",
    "outputId": "0c40acb0-0642-4a00-f0e5-87210870448c"
   },
   "outputs": [
    {
     "data": {
      "image/png": "[encoded data removed]",
      "text/plain": [
       "<Figure size 432x288 with 1 Axes>"
      ]
     },
     "metadata": {
      "needs_background": "light"
     },
     "output_type": "display_data"
    }
   ],
   "source": [
    "#define a base color\n",
    "base_color = sns.color_palette()[6] #just because I think purple is cool :)\n",
    "#plot the bar chart\n",
    "sns.barplot(x=top_dir.index, y=top_dir.values, color=base_color)\n",
    "plt.xticks(rotation=45) #so the xticks won't overlap\n",
    "plt.title(\"Top 5 Movie Directors\"); #adds a title to the plot  #apt!"
   ]
  },
  {
   "cell_type": "code",
   "execution_count": null,
   "metadata": {
    "colab": {
     "base_uri": "https://localhost:8080/",
     "height": 53
    },
    "id": "c1f76613-3842-43d3-881f-e963bc6636cb",
    "outputId": "f63cb2c3-103a-420f-a8eb-3d218c6b9271"
   },
   "outputs": [
    {
     "data": {
      "application/vnd.google.colaboratory.intrinsic+json": {
       "type": "string"
      },
      "text/plain": [
       "\"movies = netflix[netflix['type'] == 'Movie']\\nmovies\\nnetflix['director'].value_counts()\\nnetflix_dir = movies[movies['director'].value_counts().head()]\\nsns.countplot(data = netflix_dir, x = 'director')\\n\""
      ]
     },
     "execution_count": 26,
     "metadata": {},
     "output_type": "execute_result"
    }
   ],
   "source": [
    "'''movies = netflix[netflix['type'] == 'Movie']\n",
    "movies\n",
    "netflix['director'].value_counts()\n",
    "netflix_dir = movies[movies['director'].value_counts().head()]\n",
    "sns.countplot(data = netflix_dir, x = 'director')\n",
    "'''"
   ]
  },
  {
   "cell_type": "markdown",
   "metadata": {
    "id": "732d2018-cdef-429d-9440-1d372ea73ef7"
   },
   "source": [
    "#### <font color = #28B463>_13. Check for outliers in the duration column_<font>\n",
    "\n",
    "---\n",
    "\n",
    "\n"
   ]
  },
  {
   "cell_type": "code",
   "execution_count": 51,
   "metadata": {
    "colab": {
     "base_uri": "https://localhost:8080/"
    },
    "id": "44Wo3Ibfyqm-",
    "outputId": "4c236c92-eb22-47e3-d7df-d8021ebb7865"
   },
   "outputs": [
    {
     "name": "stderr",
     "output_type": "stream",
     "text": [
      "C:\\Users\\HP PC\\Anaconda3\\lib\\site-packages\\ipykernel_launcher.py:4: SettingWithCopyWarning: \n",
      "A value is trying to be set on a copy of a slice from a DataFrame.\n",
      "Try using .loc[row_indexer,col_indexer] = value instead\n",
      "\n",
      "See the caveats in the documentation: http://pandas.pydata.org/pandas-docs/stable/indexing.html#indexing-view-versus-copy\n",
      "  after removing the cwd from sys.path.\n",
      "C:\\Users\\HP PC\\Anaconda3\\lib\\site-packages\\ipykernel_launcher.py:5: SettingWithCopyWarning: \n",
      "A value is trying to be set on a copy of a slice from a DataFrame.\n",
      "Try using .loc[row_indexer,col_indexer] = value instead\n",
      "\n",
      "See the caveats in the documentation: http://pandas.pydata.org/pandas-docs/stable/indexing.html#indexing-view-versus-copy\n",
      "  \"\"\"\n"
     ]
    },
    {
     "data": {
      "text/plain": [
       "dtype('int64')"
      ]
     },
     "execution_count": 51,
     "metadata": {},
     "output_type": "execute_result"
    }
   ],
   "source": [
    "#For this question, going with the formula that helps in identifying outliers, I feel we should have a numeric column.\n",
    "#Also, I think subsetting the data (movies and TV Shows seperately) will help because the movies and series don't have the same unit for measuring duration\n",
    "#For the movies;\n",
    "movies[\"duration_num\"] = movies[\"duration\"].str.split().str[0] #using this to separate the 'minutes' and actual numbers, by first converting each row to a string so we can use .split() which is a string method\n",
    "movies[\"duration_num\"] = pd.to_numeric(movies[\"duration_num\"]) #converting the new column to a numeric column\n",
    "\n",
    "movies[\"duration_num\"].dtype #confirming we have the right data type"
   ]
  },
  {
   "cell_type": "code",
   "execution_count": 56,
   "metadata": {},
   "outputs": [
    {
     "data": {
      "text/plain": [
       "0      90\n",
       "6      91\n",
       "7     125\n",
       "9     104\n",
       "12    127\n",
       "Name: duration_num, dtype: int64"
      ]
     },
     "execution_count": 56,
     "metadata": {},
     "output_type": "execute_result"
    }
   ],
   "source": [
    "movies[\"duration_num\"].head()"
   ]
  },
  {
   "cell_type": "code",
   "execution_count": 52,
   "metadata": {
    "colab": {
     "base_uri": "https://localhost:8080/"
    },
    "id": "0jn3cTS71J7Q",
    "outputId": "e603319d-120e-4ae5-c331-beb5f38fcef3"
   },
   "outputs": [
    {
     "name": "stdout",
     "output_type": "stream",
     "text": [
      "87.0 114.0 27.0\n"
     ]
    }
   ],
   "source": [
    "#Now we can check for outliers with quartiles and interquartile range\n",
    "#lower_bound = q1 -(1.5 * iqr)\n",
    "#upper_bound = q3 + (1.5 * iqr)\n",
    "#iqr = q3 - q1\n",
    "# If you'd rather specify q from [0, 1], use np.quantile. For [0, 100], use np.percentile.\n",
    "\n",
    "#calculate q1, q3 and iqr\n",
    "q1 = np.quantile(movies[\"duration_num\"], 0.25) #to get the first quartile\n",
    "q3 = np.quantile(movies[\"duration_num\"], 0.75) #to get the third quartile\n",
    "iqr = q3 - q1\n",
    "print(q1, q3, iqr)"
   ]
  },
  {
   "cell_type": "code",
   "execution_count": 57,
   "metadata": {
    "colab": {
     "base_uri": "https://localhost:8080/"
    },
    "id": "X3U5Ho221eH4",
    "outputId": "06235d2b-98a9-4d47-b301-936a4bb84d8a"
   },
   "outputs": [
    {
     "name": "stdout",
     "output_type": "stream",
     "text": [
      "46.5 154.5\n"
     ]
    }
   ],
   "source": [
    "lower_bound = q1 -(1.5 * iqr)\n",
    "upper_bound = q3 + (1.5 * iqr)\n",
    "print(lower_bound, upper_bound)"
   ]
  },
  {
   "cell_type": "code",
   "execution_count": null,
   "metadata": {
    "colab": {
     "base_uri": "https://localhost:8080/"
    },
    "id": "jv_Soqhk1jqy",
    "outputId": "77893613-8d06-41f3-f762-5c9f3f06755e"
   },
   "outputs": [
    {
     "data": {
      "text/plain": [
       "22    161 min\n",
       "24    166 min\n",
       "45     23 min\n",
       "71     13 min\n",
       "73    182 min\n",
       "Name: duration, dtype: object"
      ]
     },
     "execution_count": 42,
     "metadata": {},
     "output_type": "execute_result"
    }
   ],
   "source": [
    "#outliers are those below the lower bound or above the upper bound\n",
    "outliers = movies[(movies[\"duration_num\"] < lower_bound) |(movies[\"duration_num\"] > upper_bound)]['duration']\n",
    "outliers.head()"
   ]
  },
  {
   "cell_type": "code",
   "execution_count": 58,
   "metadata": {
    "colab": {
     "base_uri": "https://localhost:8080/",
     "height": 280
    },
    "id": "CbXD6s8w1wwB",
    "outputId": "2e14ecbd-4c35-4f1c-9c76-502abc6d1924"
   },
   "outputs": [
    {
     "data": {
      "image/png": "[encoded data removed]",
      "text/plain": [
       "<Figure size 432x288 with 1 Axes>"
      ]
     },
     "metadata": {
      "needs_background": "light"
     },
     "output_type": "display_data"
    }
   ],
   "source": [
    "#Let's visualize\n",
    "#Notice the lower and upper bounds we calculated (46.5 154.5)\n",
    "sns.boxplot(x=movies[\"duration_num\"]);"
   ]
  },
  {
   "cell_type": "code",
   "execution_count": null,
   "metadata": {
    "colab": {
     "base_uri": "https://localhost:8080/",
     "height": 297
    },
    "id": "eZkRMqn2EqUp",
    "outputId": "dd2fcb31-299d-4786-82b7-ea4eaac46f32"
   },
   "outputs": [
    {
     "data": {
      "text/plain": [
       "<matplotlib.axes._subplots.AxesSubplot at 0x7f14ffb420d0>"
      ]
     },
     "execution_count": 33,
     "metadata": {},
     "output_type": "execute_result"
    },
    {
     "data": {
      "image/png": "[encoded data removed]",
      "text/plain": [
       "<Figure size 432x288 with 1 Axes>"
      ]
     },
     "metadata": {
      "needs_background": "light"
     },
     "output_type": "display_data"
    }
   ],
   "source": [
    "#create a histogram\n",
    "sns.histplot(movies['duration_num']) # from the plot, data is slightly skewed to the right"
   ]
  },
  {
   "cell_type": "markdown",
   "metadata": {
    "id": "7d5699ff-0b5a-4e8b-9db6-0652e8c17745"
   },
   "source": [
    "#### <font color = #28B463>_14. What are the top countries by movies counts_<font>"
   ]
  },
  {
   "cell_type": "code",
   "execution_count": 60,
   "metadata": {
    "colab": {
     "base_uri": "https://localhost:8080/",
     "height": 206
    },
    "id": "835518b9-a1bb-42c3-9111-b6aec39a3687",
    "outputId": "7a1a5b1c-d59a-448a-c869-bb7509824165"
   },
   "outputs": [
    {
     "data": {
      "text/html": [
       "<div>\n",
       "<style scoped>\n",
       "    .dataframe tbody tr th:only-of-type {\n",
       "        vertical-align: middle;\n",
       "    }\n",
       "\n",
       "    .dataframe tbody tr th {\n",
       "        vertical-align: top;\n",
       "    }\n",
       "\n",
       "    .dataframe thead th {\n",
       "        text-align: right;\n",
       "    }\n",
       "</style>\n",
       "<table border=\"1\" class=\"dataframe\">\n",
       "  <thead>\n",
       "    <tr style=\"text-align: right;\">\n",
       "      <th></th>\n",
       "      <th>Country</th>\n",
       "      <th>Count</th>\n",
       "    </tr>\n",
       "  </thead>\n",
       "  <tbody>\n",
       "    <tr>\n",
       "      <th>0</th>\n",
       "      <td>United States</td>\n",
       "      <td>2055</td>\n",
       "    </tr>\n",
       "    <tr>\n",
       "      <th>1</th>\n",
       "      <td>India</td>\n",
       "      <td>893</td>\n",
       "    </tr>\n",
       "    <tr>\n",
       "      <th>2</th>\n",
       "      <td>United Kingdom</td>\n",
       "      <td>206</td>\n",
       "    </tr>\n",
       "    <tr>\n",
       "      <th>3</th>\n",
       "      <td>Canada</td>\n",
       "      <td>122</td>\n",
       "    </tr>\n",
       "    <tr>\n",
       "      <th>4</th>\n",
       "      <td>Spain</td>\n",
       "      <td>97</td>\n",
       "    </tr>\n",
       "  </tbody>\n",
       "</table>\n",
       "</div>"
      ],
      "text/plain": [
       "          Country  Count\n",
       "0   United States   2055\n",
       "1           India    893\n",
       "2  United Kingdom    206\n",
       "3          Canada    122\n",
       "4           Spain     97"
      ]
     },
     "execution_count": 60,
     "metadata": {},
     "output_type": "execute_result"
    }
   ],
   "source": [
    "just_movie_countries = movies[movies[\"country\"] != \"Non Specified\"] #subsetting for only actual country names\n",
    "#top_countries = just_movie_countries[\"country\"].value_counts().head()\n",
    "top_countries = just_movie_countries[\"country\"].value_counts().reset_index().rename(columns = {'index':'Country','country':'Count'}).head()\n",
    "top_countries"
   ]
  },
  {
   "cell_type": "markdown",
   "metadata": {
    "id": "af21e140-d776-436b-9ab7-c55a1d99c8f6"
   },
   "source": [
    "#### <font color = #28B463>_15. Visualize the top countries by movie count_<font>"
   ]
  },
  {
   "cell_type": "code",
   "execution_count": 62,
   "metadata": {
    "colab": {
     "base_uri": "https://localhost:8080/",
     "height": 335
    },
    "id": "3125df32-db15-4cae-bc80-db8284c0c032",
    "outputId": "a1e07e80-5565-4cfa-9c8a-71c8ed69b869"
   },
   "outputs": [
    {
     "data": {
      "image/png": "[encoded data removed]",
      "text/plain": [
       "<Figure size 432x288 with 1 Axes>"
      ]
     },
     "metadata": {
      "needs_background": "light"
     },
     "output_type": "display_data"
    }
   ],
   "source": [
    "#sns.barplot(x=top_countries.index, y=top_countries.values, color=base_color)\n",
    "plt.xticks(rotation=45)\n",
    "plt.title(\"Top 5 Countries\");"
   ]
  },
  {
   "cell_type": "code",
   "execution_count": null,
   "metadata": {
    "colab": {
     "base_uri": "https://localhost:8080/",
     "height": 295
    },
    "id": "kmrFSHq4LxM4",
    "outputId": "6814a51d-43a7-44d9-80c6-d2ceb47fecf2"
   },
   "outputs": [
    {
     "data": {
      "image/png": "[encoded data removed]",
      "text/plain": [
       "<Figure size 432x288 with 1 Axes>"
      ]
     },
     "metadata": {
      "needs_background": "light"
     },
     "output_type": "display_data"
    }
   ],
   "source": [
    "sns.barplot(x=top_countries.Country, y=top_countries.Count, color=base_color)\n",
    "plt.xticks(rotation=45)\n",
    "plt.title(\"Top 5 Countries\");"
   ]
  },
  {
   "cell_type": "code",
   "execution_count": null,
   "metadata": {
    "id": "1I0x9Vb_KDIN"
   },
   "outputs": [],
   "source": []
  },
  {
   "cell_type": "markdown",
   "metadata": {
    "id": "fcad114e-4c85-4104-ab41-f24e527794c4"
   },
   "source": [
    "#### <font color = #28B463>_16. Select movies type that are been released in the last 10 year (where years >=2012)_<font>"
   ]
  },
  {
   "cell_type": "code",
   "execution_count": 63,
   "metadata": {
    "colab": {
     "base_uri": "https://localhost:8080/",
     "height": 704
    },
    "id": "e03a68fa-07df-4ac5-9153-58a2f7fae8bb",
    "outputId": "432230db-f36e-494f-8aa1-bea55f69a1c6"
   },
   "outputs": [
    {
     "data": {
      "text/html": [
       "<div>\n",
       "<style scoped>\n",
       "    .dataframe tbody tr th:only-of-type {\n",
       "        vertical-align: middle;\n",
       "    }\n",
       "\n",
       "    .dataframe tbody tr th {\n",
       "        vertical-align: top;\n",
       "    }\n",
       "\n",
       "    .dataframe thead th {\n",
       "        text-align: right;\n",
       "    }\n",
       "</style>\n",
       "<table border=\"1\" class=\"dataframe\">\n",
       "  <thead>\n",
       "    <tr style=\"text-align: right;\">\n",
       "      <th></th>\n",
       "      <th>show_id</th>\n",
       "      <th>type</th>\n",
       "      <th>title</th>\n",
       "      <th>director</th>\n",
       "      <th>cast</th>\n",
       "      <th>country</th>\n",
       "      <th>date_added</th>\n",
       "      <th>release_year</th>\n",
       "      <th>rating</th>\n",
       "      <th>duration</th>\n",
       "      <th>listed_in</th>\n",
       "      <th>description</th>\n",
       "      <th>duration_num</th>\n",
       "    </tr>\n",
       "  </thead>\n",
       "  <tbody>\n",
       "    <tr>\n",
       "      <th>0</th>\n",
       "      <td>s1</td>\n",
       "      <td>Movie</td>\n",
       "      <td>Dick Johnson Is Dead</td>\n",
       "      <td>Kirsten Johnson</td>\n",
       "      <td>Nonelisted</td>\n",
       "      <td>United States</td>\n",
       "      <td>September 25, 2021</td>\n",
       "      <td>2020</td>\n",
       "      <td>PG-13</td>\n",
       "      <td>90 min</td>\n",
       "      <td>Documentaries</td>\n",
       "      <td>As her father nears the end of his life, filmm...</td>\n",
       "      <td>90</td>\n",
       "    </tr>\n",
       "    <tr>\n",
       "      <th>6</th>\n",
       "      <td>s7</td>\n",
       "      <td>Movie</td>\n",
       "      <td>My Little Pony: A New Generation</td>\n",
       "      <td>Robert Cullen, José Luis Ucha</td>\n",
       "      <td>Vanessa Hudgens, Kimiko Glenn, James Marsden, ...</td>\n",
       "      <td>Non Specified</td>\n",
       "      <td>September 24, 2021</td>\n",
       "      <td>2021</td>\n",
       "      <td>PG</td>\n",
       "      <td>91 min</td>\n",
       "      <td>Children &amp; Family Movies</td>\n",
       "      <td>Equestria's divided. But a bright-eyed hero be...</td>\n",
       "      <td>91</td>\n",
       "    </tr>\n",
       "    <tr>\n",
       "      <th>9</th>\n",
       "      <td>s10</td>\n",
       "      <td>Movie</td>\n",
       "      <td>The Starling</td>\n",
       "      <td>Theodore Melfi</td>\n",
       "      <td>Melissa McCarthy, Chris O'Dowd, Kevin Kline, T...</td>\n",
       "      <td>United States</td>\n",
       "      <td>September 24, 2021</td>\n",
       "      <td>2021</td>\n",
       "      <td>PG-13</td>\n",
       "      <td>104 min</td>\n",
       "      <td>Comedies, Dramas</td>\n",
       "      <td>A woman adjusting to life after a loss contend...</td>\n",
       "      <td>104</td>\n",
       "    </tr>\n",
       "    <tr>\n",
       "      <th>12</th>\n",
       "      <td>s13</td>\n",
       "      <td>Movie</td>\n",
       "      <td>Je Suis Karl</td>\n",
       "      <td>Christian Schwochow</td>\n",
       "      <td>Luna Wedler, Jannis Niewöhner, Milan Peschel, ...</td>\n",
       "      <td>Germany, Czech Republic</td>\n",
       "      <td>September 23, 2021</td>\n",
       "      <td>2021</td>\n",
       "      <td>TV-MA</td>\n",
       "      <td>127 min</td>\n",
       "      <td>Dramas, International Movies</td>\n",
       "      <td>After most of her family is murdered in a terr...</td>\n",
       "      <td>127</td>\n",
       "    </tr>\n",
       "    <tr>\n",
       "      <th>13</th>\n",
       "      <td>s14</td>\n",
       "      <td>Movie</td>\n",
       "      <td>Confessions of an Invisible Girl</td>\n",
       "      <td>Bruno Garotti</td>\n",
       "      <td>Klara Castanho, Lucca Picon, Júlia Gomes, Marc...</td>\n",
       "      <td>Non Specified</td>\n",
       "      <td>September 22, 2021</td>\n",
       "      <td>2021</td>\n",
       "      <td>TV-PG</td>\n",
       "      <td>91 min</td>\n",
       "      <td>Children &amp; Family Movies, Comedies</td>\n",
       "      <td>When the clever but socially-awkward Tetê join...</td>\n",
       "      <td>91</td>\n",
       "    </tr>\n",
       "  </tbody>\n",
       "</table>\n",
       "</div>"
      ],
      "text/plain": [
       "   show_id   type                             title  \\\n",
       "0       s1  Movie              Dick Johnson Is Dead   \n",
       "6       s7  Movie  My Little Pony: A New Generation   \n",
       "9      s10  Movie                      The Starling   \n",
       "12     s13  Movie                      Je Suis Karl   \n",
       "13     s14  Movie  Confessions of an Invisible Girl   \n",
       "\n",
       "                         director  \\\n",
       "0                 Kirsten Johnson   \n",
       "6   Robert Cullen, José Luis Ucha   \n",
       "9                  Theodore Melfi   \n",
       "12            Christian Schwochow   \n",
       "13                  Bruno Garotti   \n",
       "\n",
       "                                                 cast  \\\n",
       "0                                          Nonelisted   \n",
       "6   Vanessa Hudgens, Kimiko Glenn, James Marsden, ...   \n",
       "9   Melissa McCarthy, Chris O'Dowd, Kevin Kline, T...   \n",
       "12  Luna Wedler, Jannis Niewöhner, Milan Peschel, ...   \n",
       "13  Klara Castanho, Lucca Picon, Júlia Gomes, Marc...   \n",
       "\n",
       "                    country          date_added  release_year rating duration  \\\n",
       "0             United States  September 25, 2021          2020  PG-13   90 min   \n",
       "6             Non Specified  September 24, 2021          2021     PG   91 min   \n",
       "9             United States  September 24, 2021          2021  PG-13  104 min   \n",
       "12  Germany, Czech Republic  September 23, 2021          2021  TV-MA  127 min   \n",
       "13            Non Specified  September 22, 2021          2021  TV-PG   91 min   \n",
       "\n",
       "                             listed_in  \\\n",
       "0                        Documentaries   \n",
       "6             Children & Family Movies   \n",
       "9                     Comedies, Dramas   \n",
       "12        Dramas, International Movies   \n",
       "13  Children & Family Movies, Comedies   \n",
       "\n",
       "                                          description  duration_num  \n",
       "0   As her father nears the end of his life, filmm...            90  \n",
       "6   Equestria's divided. But a bright-eyed hero be...            91  \n",
       "9   A woman adjusting to life after a loss contend...           104  \n",
       "12  After most of her family is murdered in a terr...           127  \n",
       "13  When the clever but socially-awkward Tetê join...            91  "
      ]
     },
     "execution_count": 63,
     "metadata": {},
     "output_type": "execute_result"
    }
   ],
   "source": [
    "last_10_yrs_movies = movies[movies[\"release_year\"] >= 2012]\n",
    "last_10_yrs_movies.head()"
   ]
  },
  {
   "cell_type": "markdown",
   "metadata": {
    "id": "b2f23693-12ba-4b13-86c6-3bd3494aa5a1"
   },
   "source": [
    "#### <font color = #28B463>_17. Using bar plot, show the count of movies and series produced in the last 10 years(where years >= 2012)_<font>"
   ]
  },
  {
   "cell_type": "code",
   "execution_count": 64,
   "metadata": {
    "colab": {
     "base_uri": "https://localhost:8080/",
     "height": 281
    },
    "id": "f374a352-c777-4845-a5dc-4549533233f5",
    "outputId": "39a1d0da-b27e-4c8a-85f3-3fbd37bc855b"
   },
   "outputs": [
    {
     "data": {
      "image/png": "[encoded data removed]",
      "text/plain": [
       "<Figure size 432x288 with 1 Axes>"
      ]
     },
     "metadata": {
      "needs_background": "light"
     },
     "output_type": "display_data"
    }
   ],
   "source": [
    "series = netflix[netflix[\"type\"] == \"TV Show\"]\n",
    "last_10_yrs_series = series[series[\"release_year\"] >= 2012]\n",
    "\n",
    "series_count = last_10_yrs_series.shape[0] #total rows that are TV Shows\n",
    "movies_count = last_10_yrs_movies.shape[0] #total rows that are movies\n",
    "\n",
    "sns.barplot(x=[\"TV Shows\", \"Movies\"], y=[series_count, movies_count])\n",
    "plt.title(\"Bar Plot of Latest movies and series\");"
   ]
  },
  {
   "cell_type": "markdown",
   "metadata": {
    "id": "129ad15a-8c50-402f-9069-6088319f7956"
   },
   "source": [
    "#### <font color = #28B463>_18. Using a count plot show the total movies and TV show been released in the last 10 years_<font>"
   ]
  },
  {
   "cell_type": "code",
   "execution_count": 68,
   "metadata": {
    "colab": {
     "base_uri": "https://localhost:8080/",
     "height": 346
    },
    "id": "246419d3-beba-4e2b-875a-1304cac2a152",
    "outputId": "c29c9ab9-f678-476e-d73a-fd791fe01e8e"
   },
   "outputs": [
    {
     "data": {
      "image/png": "[encoded data removed]",
      "text/plain": [
       "<Figure size 432x288 with 1 Axes>"
      ]
     },
     "metadata": {
      "needs_background": "light"
     },
     "output_type": "display_data"
    }
   ],
   "source": [
    "sns.countplot(x=\"release_year\", data = last_10_yrs_series, color = base_color)\n",
    "plt.title(\"TV Shows Released since 2012\")\n",
    "plt.xlabel(\"Year of Release\")\n",
    "plt.xticks(Rotation = 90)\n",
    "plt.ylabel(\"Number of Shows Released\");"
   ]
  },
  {
   "cell_type": "code",
   "execution_count": 69,
   "metadata": {
    "colab": {
     "base_uri": "https://localhost:8080/",
     "height": 325
    },
    "id": "-VKBo6Z-R_k7",
    "outputId": "bd46bd49-01b1-403d-f793-1ac5b70b9950"
   },
   "outputs": [
    {
     "data": {
      "image/png": "[encoded data removed]",
      "text/plain": [
       "<Figure size 432x288 with 1 Axes>"
      ]
     },
     "metadata": {
      "needs_background": "light"
     },
     "output_type": "display_data"
    }
   ],
   "source": [
    "sns.countplot(x=\"release_year\", data = last_10_yrs_movies, color = base_color)\n",
    "plt.title(\"Movies Released since 2012\") \n",
    "plt.xlabel(\"Year of Release\")\n",
    "plt.ylabel(\"Number of Movies Released\");"
   ]
  },
  {
   "cell_type": "code",
   "execution_count": 70,
   "metadata": {
    "colab": {
     "base_uri": "https://localhost:8080/",
     "height": 308
    },
    "id": "eKe-FDFAVDGN",
    "outputId": "9e7b5851-f9fd-4e26-c4b7-18c9797d239e"
   },
   "outputs": [
    {
     "data": {
      "image/png": "[encoded data removed]",
      "text/plain": [
       "<Figure size 432x288 with 1 Axes>"
      ]
     },
     "metadata": {
      "needs_background": "light"
     },
     "output_type": "display_data"
    }
   ],
   "source": [
    "last_10_yrs_total = netflix[netflix['release_year'] >= 2012]\n",
    "sns.countplot(x = 'release_year', data = last_10_yrs_total, hue = 'type', palette = 'Greens');"
   ]
  },
  {
   "cell_type": "markdown",
   "metadata": {
    "id": "37fe65ee-cffd-4307-a94d-fd01591a4df9"
   },
   "source": [
    "#### <font color = #28B463>_19. Check for unique rating_<font>"
   ]
  },
  {
   "cell_type": "code",
   "execution_count": 71,
   "metadata": {
    "colab": {
     "base_uri": "https://localhost:8080/"
    },
    "id": "a0272d0a-fd00-4139-a817-6992dea744ff",
    "outputId": "7d3fc39b-12a0-40c1-d6fb-719452c55cd2"
   },
   "outputs": [
    {
     "data": {
      "text/plain": [
       "array(['PG-13', 'TV-MA', 'PG', 'TV-14', 'TV-PG', 'TV-Y', 'TV-Y7', 'R',\n",
       "       'TV-G', 'G', 'NC-17', 'NR', 'TV-Y7-FV', 'UR'], dtype=object)"
      ]
     },
     "execution_count": 71,
     "metadata": {},
     "output_type": "execute_result"
    }
   ],
   "source": [
    "netflix[\"rating\"].unique()"
   ]
  },
  {
   "cell_type": "markdown",
   "metadata": {
    "id": "dbb3ef39-bb24-406c-97c1-061b2da029c4"
   },
   "source": [
    "#### <font color = #28B463>_20. Explore the data_<font> "
   ]
  },
  {
   "cell_type": "code",
   "execution_count": 72,
   "metadata": {
    "id": "e7d3d1d1-cb38-4694-992d-3630fbf14a70"
   },
   "outputs": [
    {
     "data": {
      "text/html": [
       "<div>\n",
       "<style scoped>\n",
       "    .dataframe tbody tr th:only-of-type {\n",
       "        vertical-align: middle;\n",
       "    }\n",
       "\n",
       "    .dataframe tbody tr th {\n",
       "        vertical-align: top;\n",
       "    }\n",
       "\n",
       "    .dataframe thead th {\n",
       "        text-align: right;\n",
       "    }\n",
       "</style>\n",
       "<table border=\"1\" class=\"dataframe\">\n",
       "  <thead>\n",
       "    <tr style=\"text-align: right;\">\n",
       "      <th></th>\n",
       "      <th>show_id</th>\n",
       "      <th>type</th>\n",
       "      <th>title</th>\n",
       "      <th>director</th>\n",
       "      <th>cast</th>\n",
       "      <th>country</th>\n",
       "      <th>date_added</th>\n",
       "      <th>release_year</th>\n",
       "      <th>rating</th>\n",
       "      <th>duration</th>\n",
       "      <th>listed_in</th>\n",
       "      <th>description</th>\n",
       "    </tr>\n",
       "  </thead>\n",
       "  <tbody>\n",
       "    <tr>\n",
       "      <th>0</th>\n",
       "      <td>s1</td>\n",
       "      <td>Movie</td>\n",
       "      <td>Dick Johnson Is Dead</td>\n",
       "      <td>Kirsten Johnson</td>\n",
       "      <td>Nonelisted</td>\n",
       "      <td>United States</td>\n",
       "      <td>September 25, 2021</td>\n",
       "      <td>2020</td>\n",
       "      <td>PG-13</td>\n",
       "      <td>90 min</td>\n",
       "      <td>Documentaries</td>\n",
       "      <td>As her father nears the end of his life, filmm...</td>\n",
       "    </tr>\n",
       "    <tr>\n",
       "      <th>1</th>\n",
       "      <td>s2</td>\n",
       "      <td>TV Show</td>\n",
       "      <td>Blood &amp; Water</td>\n",
       "      <td>None Specified</td>\n",
       "      <td>Ama Qamata, Khosi Ngema, Gail Mabalane, Thaban...</td>\n",
       "      <td>South Africa</td>\n",
       "      <td>September 24, 2021</td>\n",
       "      <td>2021</td>\n",
       "      <td>TV-MA</td>\n",
       "      <td>2 Seasons</td>\n",
       "      <td>International TV Shows, TV Dramas, TV Mysteries</td>\n",
       "      <td>After crossing paths at a party, a Cape Town t...</td>\n",
       "    </tr>\n",
       "    <tr>\n",
       "      <th>2</th>\n",
       "      <td>s3</td>\n",
       "      <td>TV Show</td>\n",
       "      <td>Ganglands</td>\n",
       "      <td>Julien Leclercq</td>\n",
       "      <td>Sami Bouajila, Tracy Gotoas, Samuel Jouy, Nabi...</td>\n",
       "      <td>Non Specified</td>\n",
       "      <td>September 24, 2021</td>\n",
       "      <td>2021</td>\n",
       "      <td>TV-MA</td>\n",
       "      <td>1 Season</td>\n",
       "      <td>Crime TV Shows, International TV Shows, TV Act...</td>\n",
       "      <td>To protect his family from a powerful drug lor...</td>\n",
       "    </tr>\n",
       "    <tr>\n",
       "      <th>3</th>\n",
       "      <td>s4</td>\n",
       "      <td>TV Show</td>\n",
       "      <td>Jailbirds New Orleans</td>\n",
       "      <td>None Specified</td>\n",
       "      <td>Nonelisted</td>\n",
       "      <td>Non Specified</td>\n",
       "      <td>September 24, 2021</td>\n",
       "      <td>2021</td>\n",
       "      <td>TV-MA</td>\n",
       "      <td>1 Season</td>\n",
       "      <td>Docuseries, Reality TV</td>\n",
       "      <td>Feuds, flirtations and toilet talk go down amo...</td>\n",
       "    </tr>\n",
       "    <tr>\n",
       "      <th>4</th>\n",
       "      <td>s5</td>\n",
       "      <td>TV Show</td>\n",
       "      <td>Kota Factory</td>\n",
       "      <td>None Specified</td>\n",
       "      <td>Mayur More, Jitendra Kumar, Ranjan Raj, Alam K...</td>\n",
       "      <td>India</td>\n",
       "      <td>September 24, 2021</td>\n",
       "      <td>2021</td>\n",
       "      <td>TV-MA</td>\n",
       "      <td>2 Seasons</td>\n",
       "      <td>International TV Shows, Romantic TV Shows, TV ...</td>\n",
       "      <td>In a city of coaching centers known to train I...</td>\n",
       "    </tr>\n",
       "  </tbody>\n",
       "</table>\n",
       "</div>"
      ],
      "text/plain": [
       "  show_id     type                  title         director  \\\n",
       "0      s1    Movie   Dick Johnson Is Dead  Kirsten Johnson   \n",
       "1      s2  TV Show          Blood & Water   None Specified   \n",
       "2      s3  TV Show              Ganglands  Julien Leclercq   \n",
       "3      s4  TV Show  Jailbirds New Orleans   None Specified   \n",
       "4      s5  TV Show           Kota Factory   None Specified   \n",
       "\n",
       "                                                cast        country  \\\n",
       "0                                         Nonelisted  United States   \n",
       "1  Ama Qamata, Khosi Ngema, Gail Mabalane, Thaban...   South Africa   \n",
       "2  Sami Bouajila, Tracy Gotoas, Samuel Jouy, Nabi...  Non Specified   \n",
       "3                                         Nonelisted  Non Specified   \n",
       "4  Mayur More, Jitendra Kumar, Ranjan Raj, Alam K...          India   \n",
       "\n",
       "           date_added  release_year rating   duration  \\\n",
       "0  September 25, 2021          2020  PG-13     90 min   \n",
       "1  September 24, 2021          2021  TV-MA  2 Seasons   \n",
       "2  September 24, 2021          2021  TV-MA   1 Season   \n",
       "3  September 24, 2021          2021  TV-MA   1 Season   \n",
       "4  September 24, 2021          2021  TV-MA  2 Seasons   \n",
       "\n",
       "                                           listed_in  \\\n",
       "0                                      Documentaries   \n",
       "1    International TV Shows, TV Dramas, TV Mysteries   \n",
       "2  Crime TV Shows, International TV Shows, TV Act...   \n",
       "3                             Docuseries, Reality TV   \n",
       "4  International TV Shows, Romantic TV Shows, TV ...   \n",
       "\n",
       "                                         description  \n",
       "0  As her father nears the end of his life, filmm...  \n",
       "1  After crossing paths at a party, a Cape Town t...  \n",
       "2  To protect his family from a powerful drug lor...  \n",
       "3  Feuds, flirtations and toilet talk go down amo...  \n",
       "4  In a city of coaching centers known to train I...  "
      ]
     },
     "execution_count": 72,
     "metadata": {},
     "output_type": "execute_result"
    }
   ],
   "source": [
    "#Have movies been getting shorter in the recent past? Let us explore ...\n",
    "netflix.head()"
   ]
  },
  {
   "cell_type": "code",
   "execution_count": 73,
   "metadata": {
    "colab": {
     "base_uri": "https://localhost:8080/",
     "height": 1000
    },
    "id": "cEuWuTkaQ40T",
    "outputId": "23e5128d-1275-466b-916b-7ef1c7033603"
   },
   "outputs": [
    {
     "data": {
      "text/html": [
       "<div>\n",
       "<style scoped>\n",
       "    .dataframe tbody tr th:only-of-type {\n",
       "        vertical-align: middle;\n",
       "    }\n",
       "\n",
       "    .dataframe tbody tr th {\n",
       "        vertical-align: top;\n",
       "    }\n",
       "\n",
       "    .dataframe thead th {\n",
       "        text-align: right;\n",
       "    }\n",
       "</style>\n",
       "<table border=\"1\" class=\"dataframe\">\n",
       "  <thead>\n",
       "    <tr style=\"text-align: right;\">\n",
       "      <th></th>\n",
       "      <th>show_id</th>\n",
       "      <th>type</th>\n",
       "      <th>title</th>\n",
       "      <th>director</th>\n",
       "      <th>cast</th>\n",
       "      <th>country</th>\n",
       "      <th>date_added</th>\n",
       "      <th>release_year</th>\n",
       "      <th>rating</th>\n",
       "      <th>duration</th>\n",
       "      <th>listed_in</th>\n",
       "      <th>description</th>\n",
       "      <th>duration_num</th>\n",
       "    </tr>\n",
       "  </thead>\n",
       "  <tbody>\n",
       "    <tr>\n",
       "      <th>45</th>\n",
       "      <td>s46</td>\n",
       "      <td>Movie</td>\n",
       "      <td>My Heroes Were Cowboys</td>\n",
       "      <td>Tyler Greco</td>\n",
       "      <td>Nonelisted</td>\n",
       "      <td>Non Specified</td>\n",
       "      <td>September 16, 2021</td>\n",
       "      <td>2021</td>\n",
       "      <td>PG</td>\n",
       "      <td>23 min</td>\n",
       "      <td>Documentaries</td>\n",
       "      <td>Robin Wiltshire's painful childhood was rescue...</td>\n",
       "      <td>23</td>\n",
       "    </tr>\n",
       "    <tr>\n",
       "      <th>71</th>\n",
       "      <td>s72</td>\n",
       "      <td>Movie</td>\n",
       "      <td>A StoryBots Space Adventure</td>\n",
       "      <td>David A. Vargas</td>\n",
       "      <td>Evan Spiridellis, Erin Fitzgerald, Jeff Gill, ...</td>\n",
       "      <td>Non Specified</td>\n",
       "      <td>September 14, 2021</td>\n",
       "      <td>2021</td>\n",
       "      <td>TV-Y</td>\n",
       "      <td>13 min</td>\n",
       "      <td>Children &amp; Family Movies</td>\n",
       "      <td>Join the StoryBots and the space travelers of ...</td>\n",
       "      <td>13</td>\n",
       "    </tr>\n",
       "    <tr>\n",
       "      <th>77</th>\n",
       "      <td>s78</td>\n",
       "      <td>Movie</td>\n",
       "      <td>Little Singham - Black Shadow</td>\n",
       "      <td>Prakash Satam</td>\n",
       "      <td>Sumriddhi Shukla, Jigna Bharadwaj, Sonal Kaush...</td>\n",
       "      <td>Non Specified</td>\n",
       "      <td>September 11, 2021</td>\n",
       "      <td>2021</td>\n",
       "      <td>TV-Y7</td>\n",
       "      <td>48 min</td>\n",
       "      <td>Children &amp; Family Movies, Comedies</td>\n",
       "      <td>Kid cop Little Singham loses all his superpowe...</td>\n",
       "      <td>48</td>\n",
       "    </tr>\n",
       "    <tr>\n",
       "      <th>279</th>\n",
       "      <td>s280</td>\n",
       "      <td>Movie</td>\n",
       "      <td>Monster Hunter: Legends of the Guild</td>\n",
       "      <td>Steven Yamamoto</td>\n",
       "      <td>Ben Rausch, Erica Lindbeck, Dante Basco, Brand...</td>\n",
       "      <td>United States, Japan</td>\n",
       "      <td>August 12, 2021</td>\n",
       "      <td>2021</td>\n",
       "      <td>TV-PG</td>\n",
       "      <td>59 min</td>\n",
       "      <td>Action &amp; Adventure, Anime Features, Children &amp;...</td>\n",
       "      <td>In a world where humans and fearsome monsters ...</td>\n",
       "      <td>59</td>\n",
       "    </tr>\n",
       "    <tr>\n",
       "      <th>470</th>\n",
       "      <td>s471</td>\n",
       "      <td>Movie</td>\n",
       "      <td>Bridgerton - The Afterparty</td>\n",
       "      <td>None Specified</td>\n",
       "      <td>David Spade, London Hughes, Fortune Feimster</td>\n",
       "      <td>Non Specified</td>\n",
       "      <td>July 13, 2021</td>\n",
       "      <td>2021</td>\n",
       "      <td>TV-14</td>\n",
       "      <td>39 min</td>\n",
       "      <td>Movies</td>\n",
       "      <td>\"Bridgerton\" cast members share behind-the-sce...</td>\n",
       "      <td>39</td>\n",
       "    </tr>\n",
       "    <tr>\n",
       "      <th>484</th>\n",
       "      <td>s485</td>\n",
       "      <td>Movie</td>\n",
       "      <td>Lee Su-geun: The Sense Coach</td>\n",
       "      <td>Kim Joo-hyung</td>\n",
       "      <td>Lee Su-geun</td>\n",
       "      <td>Non Specified</td>\n",
       "      <td>July 9, 2021</td>\n",
       "      <td>2021</td>\n",
       "      <td>TV-G</td>\n",
       "      <td>46 min</td>\n",
       "      <td>Stand-Up Comedy</td>\n",
       "      <td>Lee Su-geun's rise to Korean comedy stardom we...</td>\n",
       "      <td>46</td>\n",
       "    </tr>\n",
       "    <tr>\n",
       "      <th>495</th>\n",
       "      <td>s496</td>\n",
       "      <td>Movie</td>\n",
       "      <td>Awon Boyz</td>\n",
       "      <td>Tolulope Itegboje</td>\n",
       "      <td>Nonelisted</td>\n",
       "      <td>Non Specified</td>\n",
       "      <td>July 7, 2021</td>\n",
       "      <td>2019</td>\n",
       "      <td>TV-MA</td>\n",
       "      <td>38 min</td>\n",
       "      <td>Documentaries, International Movies</td>\n",
       "      <td>This documentary takes a close look at the liv...</td>\n",
       "      <td>38</td>\n",
       "    </tr>\n",
       "    <tr>\n",
       "      <th>560</th>\n",
       "      <td>s561</td>\n",
       "      <td>Movie</td>\n",
       "      <td>Audible</td>\n",
       "      <td>Matt Ogens</td>\n",
       "      <td>Nonelisted</td>\n",
       "      <td>Non Specified</td>\n",
       "      <td>July 1, 2021</td>\n",
       "      <td>2021</td>\n",
       "      <td>PG-13</td>\n",
       "      <td>39 min</td>\n",
       "      <td>Documentaries, Sports Movies</td>\n",
       "      <td>Shaken by a friend's suicide, a Deaf high scho...</td>\n",
       "      <td>39</td>\n",
       "    </tr>\n",
       "    <tr>\n",
       "      <th>694</th>\n",
       "      <td>s695</td>\n",
       "      <td>Movie</td>\n",
       "      <td>Aziza</td>\n",
       "      <td>Soudade Kaadan</td>\n",
       "      <td>Caress Bashar, Abdel Moneim Amayri</td>\n",
       "      <td>Lebanon, Syria</td>\n",
       "      <td>June 17, 2021</td>\n",
       "      <td>2019</td>\n",
       "      <td>TV-PG</td>\n",
       "      <td>13 min</td>\n",
       "      <td>Comedies, Dramas, Independent Movies</td>\n",
       "      <td>This short film follows a newly displaced Syri...</td>\n",
       "      <td>13</td>\n",
       "    </tr>\n",
       "    <tr>\n",
       "      <th>695</th>\n",
       "      <td>s696</td>\n",
       "      <td>Movie</td>\n",
       "      <td>Besieged Bread</td>\n",
       "      <td>Soudade Kaadan</td>\n",
       "      <td>Lama Hakeim, Gabriel Malki, Ehab Shaaban</td>\n",
       "      <td>Non Specified</td>\n",
       "      <td>June 17, 2021</td>\n",
       "      <td>2015</td>\n",
       "      <td>TV-14</td>\n",
       "      <td>12 min</td>\n",
       "      <td>Dramas, International Movies</td>\n",
       "      <td>In battle-ridden Syria, a woman trying to smug...</td>\n",
       "      <td>12</td>\n",
       "    </tr>\n",
       "    <tr>\n",
       "      <th>729</th>\n",
       "      <td>s730</td>\n",
       "      <td>Movie</td>\n",
       "      <td>Bling Empire - The Afterparty</td>\n",
       "      <td>None Specified</td>\n",
       "      <td>David Spade, London Hughes, Fortune Feimster</td>\n",
       "      <td>Non Specified</td>\n",
       "      <td>June 12, 2021</td>\n",
       "      <td>2021</td>\n",
       "      <td>TV-MA</td>\n",
       "      <td>36 min</td>\n",
       "      <td>Movies</td>\n",
       "      <td>The stars of \"Bling Empire\" discuss the show's...</td>\n",
       "      <td>36</td>\n",
       "    </tr>\n",
       "    <tr>\n",
       "      <th>730</th>\n",
       "      <td>s731</td>\n",
       "      <td>Movie</td>\n",
       "      <td>Cobra Kai - The Afterparty</td>\n",
       "      <td>None Specified</td>\n",
       "      <td>David Spade, London Hughes, Fortune Feimster</td>\n",
       "      <td>Non Specified</td>\n",
       "      <td>June 12, 2021</td>\n",
       "      <td>2021</td>\n",
       "      <td>TV-MA</td>\n",
       "      <td>34 min</td>\n",
       "      <td>Movies</td>\n",
       "      <td>Ralph Macchio, William Zabka and more from the...</td>\n",
       "      <td>34</td>\n",
       "    </tr>\n",
       "    <tr>\n",
       "      <th>732</th>\n",
       "      <td>s733</td>\n",
       "      <td>Movie</td>\n",
       "      <td>To All the Boys: Always and Forever - The Afte...</td>\n",
       "      <td>None Specified</td>\n",
       "      <td>Cast members of the \"To All the Boys\" films di...</td>\n",
       "      <td>Non Specified</td>\n",
       "      <td>June 12, 2021</td>\n",
       "      <td>2021</td>\n",
       "      <td>TV-MA</td>\n",
       "      <td>36 min</td>\n",
       "      <td>Movies</td>\n",
       "      <td>Cast members of the \"To All the Boys\" films di...</td>\n",
       "      <td>36</td>\n",
       "    </tr>\n",
       "    <tr>\n",
       "      <th>738</th>\n",
       "      <td>s739</td>\n",
       "      <td>Movie</td>\n",
       "      <td>Trese After Dark</td>\n",
       "      <td>None Specified</td>\n",
       "      <td>Nonelisted</td>\n",
       "      <td>Non Specified</td>\n",
       "      <td>June 11, 2021</td>\n",
       "      <td>2021</td>\n",
       "      <td>TV-14</td>\n",
       "      <td>36 min</td>\n",
       "      <td>Anime Features, Documentaries</td>\n",
       "      <td>Stars and creators gather to discuss “Trese,” ...</td>\n",
       "      <td>36</td>\n",
       "    </tr>\n",
       "    <tr>\n",
       "      <th>766</th>\n",
       "      <td>s767</td>\n",
       "      <td>Movie</td>\n",
       "      <td>Alan Saldaña: Locked Up</td>\n",
       "      <td>Alex Díaz</td>\n",
       "      <td>Alan Saldaña</td>\n",
       "      <td>Mexico</td>\n",
       "      <td>June 3, 2021</td>\n",
       "      <td>2021</td>\n",
       "      <td>TV-MA</td>\n",
       "      <td>49 min</td>\n",
       "      <td>Stand-Up Comedy</td>\n",
       "      <td>Mexican comedian Alan Saldaña is back, poking ...</td>\n",
       "      <td>49</td>\n",
       "    </tr>\n",
       "    <tr>\n",
       "      <th>769</th>\n",
       "      <td>s770</td>\n",
       "      <td>Movie</td>\n",
       "      <td>From Stress to Happiness</td>\n",
       "      <td>Alejandro De Grazia, Juan Stadler</td>\n",
       "      <td>Nonelisted</td>\n",
       "      <td>Argentina</td>\n",
       "      <td>June 3, 2021</td>\n",
       "      <td>2020</td>\n",
       "      <td>TV-G</td>\n",
       "      <td>58 min</td>\n",
       "      <td>Documentaries, International Movies</td>\n",
       "      <td>A stressed-out documentary filmmaker goes on a...</td>\n",
       "      <td>58</td>\n",
       "    </tr>\n",
       "    <tr>\n",
       "      <th>811</th>\n",
       "      <td>s812</td>\n",
       "      <td>Movie</td>\n",
       "      <td>Super Monsters: Once Upon a Rhyme</td>\n",
       "      <td>Steve Ball</td>\n",
       "      <td>Elyse Maloway, Vincent Tong, Andrea Libman, Al...</td>\n",
       "      <td>Non Specified</td>\n",
       "      <td>June 2, 2021</td>\n",
       "      <td>2021</td>\n",
       "      <td>TV-Y</td>\n",
       "      <td>25 min</td>\n",
       "      <td>Children &amp; Family Movies</td>\n",
       "      <td>From Goldilocks to Hansel and Gretel, the Supe...</td>\n",
       "      <td>25</td>\n",
       "    </tr>\n",
       "    <tr>\n",
       "      <th>854</th>\n",
       "      <td>s855</td>\n",
       "      <td>Movie</td>\n",
       "      <td>Creating an Army of the Dead</td>\n",
       "      <td>None Specified</td>\n",
       "      <td>Nonelisted</td>\n",
       "      <td>Non Specified</td>\n",
       "      <td>May 21, 2021</td>\n",
       "      <td>2021</td>\n",
       "      <td>TV-MA</td>\n",
       "      <td>29 min</td>\n",
       "      <td>Documentaries</td>\n",
       "      <td>Zack Snyder and his \"Army of the Dead\" team di...</td>\n",
       "      <td>29</td>\n",
       "    </tr>\n",
       "    <tr>\n",
       "      <th>861</th>\n",
       "      <td>s862</td>\n",
       "      <td>Movie</td>\n",
       "      <td>Little Singham Future mein Satakli</td>\n",
       "      <td>Prakash Satam</td>\n",
       "      <td>Anamaya Verma, Ganesh Divekar, Jigna Bharadhwa...</td>\n",
       "      <td>Non Specified</td>\n",
       "      <td>May 20, 2021</td>\n",
       "      <td>2021</td>\n",
       "      <td>TV-Y7</td>\n",
       "      <td>47 min</td>\n",
       "      <td>Children &amp; Family Movies, Comedies</td>\n",
       "      <td>Little Singham and his crew travel to the year...</td>\n",
       "      <td>47</td>\n",
       "    </tr>\n",
       "    <tr>\n",
       "      <th>888</th>\n",
       "      <td>s889</td>\n",
       "      <td>Movie</td>\n",
       "      <td>The Upshaws - The Afterparty</td>\n",
       "      <td>None Specified</td>\n",
       "      <td>David Spade, London Hughes, Fortune Feimster, ...</td>\n",
       "      <td>Non Specified</td>\n",
       "      <td>May 14, 2021</td>\n",
       "      <td>2021</td>\n",
       "      <td>TV-14</td>\n",
       "      <td>32 min</td>\n",
       "      <td>Comedies</td>\n",
       "      <td>The comedic dream team from \"The Upshaws\" disc...</td>\n",
       "      <td>32</td>\n",
       "    </tr>\n",
       "  </tbody>\n",
       "</table>\n",
       "</div>"
      ],
      "text/plain": [
       "    show_id   type                                              title  \\\n",
       "45      s46  Movie                             My Heroes Were Cowboys   \n",
       "71      s72  Movie                        A StoryBots Space Adventure   \n",
       "77      s78  Movie                      Little Singham - Black Shadow   \n",
       "279    s280  Movie               Monster Hunter: Legends of the Guild   \n",
       "470    s471  Movie                        Bridgerton - The Afterparty   \n",
       "484    s485  Movie                       Lee Su-geun: The Sense Coach   \n",
       "495    s496  Movie                                          Awon Boyz   \n",
       "560    s561  Movie                                            Audible   \n",
       "694    s695  Movie                                              Aziza   \n",
       "695    s696  Movie                                     Besieged Bread   \n",
       "729    s730  Movie                      Bling Empire - The Afterparty   \n",
       "730    s731  Movie                         Cobra Kai - The Afterparty   \n",
       "732    s733  Movie  To All the Boys: Always and Forever - The Afte...   \n",
       "738    s739  Movie                                   Trese After Dark   \n",
       "766    s767  Movie                            Alan Saldaña: Locked Up   \n",
       "769    s770  Movie                           From Stress to Happiness   \n",
       "811    s812  Movie                  Super Monsters: Once Upon a Rhyme   \n",
       "854    s855  Movie                       Creating an Army of the Dead   \n",
       "861    s862  Movie                 Little Singham Future mein Satakli   \n",
       "888    s889  Movie                       The Upshaws - The Afterparty   \n",
       "\n",
       "                              director  \\\n",
       "45                         Tyler Greco   \n",
       "71                     David A. Vargas   \n",
       "77                       Prakash Satam   \n",
       "279                    Steven Yamamoto   \n",
       "470                     None Specified   \n",
       "484                      Kim Joo-hyung   \n",
       "495                  Tolulope Itegboje   \n",
       "560                         Matt Ogens   \n",
       "694                     Soudade Kaadan   \n",
       "695                     Soudade Kaadan   \n",
       "729                     None Specified   \n",
       "730                     None Specified   \n",
       "732                     None Specified   \n",
       "738                     None Specified   \n",
       "766                          Alex Díaz   \n",
       "769  Alejandro De Grazia, Juan Stadler   \n",
       "811                         Steve Ball   \n",
       "854                     None Specified   \n",
       "861                      Prakash Satam   \n",
       "888                     None Specified   \n",
       "\n",
       "                                                  cast               country  \\\n",
       "45                                          Nonelisted         Non Specified   \n",
       "71   Evan Spiridellis, Erin Fitzgerald, Jeff Gill, ...         Non Specified   \n",
       "77   Sumriddhi Shukla, Jigna Bharadwaj, Sonal Kaush...         Non Specified   \n",
       "279  Ben Rausch, Erica Lindbeck, Dante Basco, Brand...  United States, Japan   \n",
       "470       David Spade, London Hughes, Fortune Feimster         Non Specified   \n",
       "484                                        Lee Su-geun         Non Specified   \n",
       "495                                         Nonelisted         Non Specified   \n",
       "560                                         Nonelisted         Non Specified   \n",
       "694                 Caress Bashar, Abdel Moneim Amayri        Lebanon, Syria   \n",
       "695           Lama Hakeim, Gabriel Malki, Ehab Shaaban         Non Specified   \n",
       "729       David Spade, London Hughes, Fortune Feimster         Non Specified   \n",
       "730       David Spade, London Hughes, Fortune Feimster         Non Specified   \n",
       "732  Cast members of the \"To All the Boys\" films di...         Non Specified   \n",
       "738                                         Nonelisted         Non Specified   \n",
       "766                                       Alan Saldaña                Mexico   \n",
       "769                                         Nonelisted             Argentina   \n",
       "811  Elyse Maloway, Vincent Tong, Andrea Libman, Al...         Non Specified   \n",
       "854                                         Nonelisted         Non Specified   \n",
       "861  Anamaya Verma, Ganesh Divekar, Jigna Bharadhwa...         Non Specified   \n",
       "888  David Spade, London Hughes, Fortune Feimster, ...         Non Specified   \n",
       "\n",
       "             date_added  release_year rating duration  \\\n",
       "45   September 16, 2021          2021     PG   23 min   \n",
       "71   September 14, 2021          2021   TV-Y   13 min   \n",
       "77   September 11, 2021          2021  TV-Y7   48 min   \n",
       "279     August 12, 2021          2021  TV-PG   59 min   \n",
       "470       July 13, 2021          2021  TV-14   39 min   \n",
       "484        July 9, 2021          2021   TV-G   46 min   \n",
       "495        July 7, 2021          2019  TV-MA   38 min   \n",
       "560        July 1, 2021          2021  PG-13   39 min   \n",
       "694       June 17, 2021          2019  TV-PG   13 min   \n",
       "695       June 17, 2021          2015  TV-14   12 min   \n",
       "729       June 12, 2021          2021  TV-MA   36 min   \n",
       "730       June 12, 2021          2021  TV-MA   34 min   \n",
       "732       June 12, 2021          2021  TV-MA   36 min   \n",
       "738       June 11, 2021          2021  TV-14   36 min   \n",
       "766        June 3, 2021          2021  TV-MA   49 min   \n",
       "769        June 3, 2021          2020   TV-G   58 min   \n",
       "811        June 2, 2021          2021   TV-Y   25 min   \n",
       "854        May 21, 2021          2021  TV-MA   29 min   \n",
       "861        May 20, 2021          2021  TV-Y7   47 min   \n",
       "888        May 14, 2021          2021  TV-14   32 min   \n",
       "\n",
       "                                             listed_in  \\\n",
       "45                                       Documentaries   \n",
       "71                            Children & Family Movies   \n",
       "77                  Children & Family Movies, Comedies   \n",
       "279  Action & Adventure, Anime Features, Children &...   \n",
       "470                                             Movies   \n",
       "484                                    Stand-Up Comedy   \n",
       "495                Documentaries, International Movies   \n",
       "560                       Documentaries, Sports Movies   \n",
       "694               Comedies, Dramas, Independent Movies   \n",
       "695                       Dramas, International Movies   \n",
       "729                                             Movies   \n",
       "730                                             Movies   \n",
       "732                                             Movies   \n",
       "738                      Anime Features, Documentaries   \n",
       "766                                    Stand-Up Comedy   \n",
       "769                Documentaries, International Movies   \n",
       "811                           Children & Family Movies   \n",
       "854                                      Documentaries   \n",
       "861                 Children & Family Movies, Comedies   \n",
       "888                                           Comedies   \n",
       "\n",
       "                                           description  duration_num  \n",
       "45   Robin Wiltshire's painful childhood was rescue...            23  \n",
       "71   Join the StoryBots and the space travelers of ...            13  \n",
       "77   Kid cop Little Singham loses all his superpowe...            48  \n",
       "279  In a world where humans and fearsome monsters ...            59  \n",
       "470  \"Bridgerton\" cast members share behind-the-sce...            39  \n",
       "484  Lee Su-geun's rise to Korean comedy stardom we...            46  \n",
       "495  This documentary takes a close look at the liv...            38  \n",
       "560  Shaken by a friend's suicide, a Deaf high scho...            39  \n",
       "694  This short film follows a newly displaced Syri...            13  \n",
       "695  In battle-ridden Syria, a woman trying to smug...            12  \n",
       "729  The stars of \"Bling Empire\" discuss the show's...            36  \n",
       "730  Ralph Macchio, William Zabka and more from the...            34  \n",
       "732  Cast members of the \"To All the Boys\" films di...            36  \n",
       "738  Stars and creators gather to discuss “Trese,” ...            36  \n",
       "766  Mexican comedian Alan Saldaña is back, poking ...            49  \n",
       "769  A stressed-out documentary filmmaker goes on a...            58  \n",
       "811  From Goldilocks to Hansel and Gretel, the Supe...            25  \n",
       "854  Zack Snyder and his \"Army of the Dead\" team di...            29  \n",
       "861  Little Singham and his crew travel to the year...            47  \n",
       "888  The comedic dream team from \"The Upshaws\" disc...            32  "
      ]
     },
     "execution_count": 73,
     "metadata": {},
     "output_type": "execute_result"
    }
   ],
   "source": [
    "# Filter for durations shorter than 60 minutes\n",
    "short_movies = movies[movies['duration_num'] < 60]\n",
    "short_movies[0:20]"
   ]
  },
  {
   "cell_type": "code",
   "execution_count": null,
   "metadata": {
    "colab": {
     "base_uri": "https://localhost:8080/",
     "height": 558
    },
    "id": "zlsGgLDqTM0Q",
    "outputId": "e9f09017-2d91-4d7b-f640-3867a7a095cb"
   },
   "outputs": [
    {
     "data": {
      "image/png": "[encoded data removed]",
      "text/plain": [
       "<Figure size 864x576 with 1 Axes>"
      ]
     },
     "metadata": {},
     "output_type": "display_data"
    }
   ],
   "source": [
    "# Set the figure style and initalize a new figure\n",
    "plt.style.use('fivethirtyeight')\n",
    "fig = plt.figure(figsize=(12,8))\n",
    "\n",
    "# Create a scatter plot of duration versus release_year\n",
    "plt.scatter(x = movies.release_year, y = movies.duration_num)\n",
    "\n",
    "# Create a title and axis labels\n",
    "plt.xlabel('Release year')\n",
    "plt.ylabel('Duration (min)')\n",
    "plt.title(\"Movie Duration by year of release\")\n",
    "\n",
    "\n",
    "# Show the plot\n",
    "plt.show()"
   ]
  },
  {
   "cell_type": "markdown",
   "metadata": {
    "id": "cfDM1KwlUmBv"
   },
   "source": [
    "#There has been no significant change in thr duration of movies across the years,\n",
    "#but as we can see from the scatterplot, the number of movies has drastically increased along the\n",
    "#years.\n",
    "\n",
    "\n",
    "#### Thanks for going through... (your corrections and commendations would be highly appreciated...)"
   ]
  }
 ],
 "metadata": {
  "colab": {
   "collapsed_sections": [],
   "provenance": [],
   "toc_visible": true
  },
  "kernelspec": {
   "display_name": "Python 3",
   "language": "python",
   "name": "python3"
  },
  "language_info": {
   "codemirror_mode": {
    "name": "ipython",
    "version": 3
   },
   "file_extension": ".py",
   "mimetype": "text/x-python",
   "name": "python",
   "nbconvert_exporter": "python",
   "pygments_lexer": "ipython3",
   "version": "3.7.3"
  }
 },
 "nbformat": 4,
 "nbformat_minor": 5
}
